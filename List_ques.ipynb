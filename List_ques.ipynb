{
  "nbformat": 4,
  "nbformat_minor": 0,
  "metadata": {
    "colab": {
      "provenance": [],
      "authorship_tag": "ABX9TyPuxew2jJBpEUKwWXqBZkY/",
      "include_colab_link": true
    },
    "kernelspec": {
      "name": "python3",
      "display_name": "Python 3"
    },
    "language_info": {
      "name": "python"
    }
  },
  "cells": [
    {
      "cell_type": "markdown",
      "metadata": {
        "id": "view-in-github",
        "colab_type": "text"
      },
      "source": [
        "<a href=\"https://colab.research.google.com/github/Akshat03082004/Python-Assignment/blob/main/List_ques.ipynb\" target=\"_parent\"><img src=\"https://colab.research.google.com/assets/colab-badge.svg\" alt=\"Open In Colab\"/></a>"
      ]
    },
    {
      "cell_type": "code",
      "execution_count": null,
      "metadata": {
        "colab": {
          "base_uri": "https://localhost:8080/"
        },
        "id": "CxOb6Y3SLo-F",
        "outputId": "423173ac-ed99-42a9-9744-c376f64cccd2"
      },
      "outputs": [
        {
          "output_type": "stream",
          "name": "stdout",
          "text": [
            "befor reversing=> [10, 20, 30, 40, 50]\n",
            "after reversing=> [50, 40, 30, 20, 10]\n"
          ]
        }
      ],
      "source": [
        "#Reversing of a list\n",
        "list=[10,20,30,40,50]\n",
        "start=0\n",
        "end=len(list)-1\n",
        "print(\"befor reversing=>\",list)\n",
        "\n",
        "#reversing\n",
        "while(start!=end):\n",
        "\n",
        "  temp=list[start]\n",
        "  list[start]=list[end]\n",
        "  list[end]=temp\n",
        "\n",
        "  start+=1\n",
        "  end-=1\n",
        "print(\"after reversing=>\",list)"
      ]
    },
    {
      "cell_type": "code",
      "source": [
        "#To sort the list\n",
        "list=[10,3,20,5,30,7,40,50,9]\n",
        "print(\"Before sorting=>\",list)\n",
        "for i in range(0,len(list)):\n",
        "  for j in range(i+1,len(list)):\n",
        "    if(list[i]>list[j]):\n",
        "      temp=list[i]\n",
        "      list[i]=list[j]\n",
        "      list[j]=temp\n",
        "\n",
        "print(\"after sorting=>\",list)\n"
      ],
      "metadata": {
        "colab": {
          "base_uri": "https://localhost:8080/"
        },
        "id": "kNIurK8TOuA1",
        "outputId": "f2f00b35-2f6c-49bb-8280-81c76978e254"
      },
      "execution_count": null,
      "outputs": [
        {
          "output_type": "stream",
          "name": "stdout",
          "text": [
            "Before sorting=> [10, 3, 20, 5, 30, 7, 40, 50, 9]\n",
            "after sorting=> [3, 5, 7, 9, 10, 20, 30, 40, 50]\n"
          ]
        }
      ]
    },
    {
      "cell_type": "code",
      "source": [
        "#Sum of all the elements of a list\n",
        "list=[10,20,30,40]\n",
        "sum=0\n",
        "a=len(list)\n",
        "for i in range(0,a):\n",
        "  sum=sum+list[i]\n",
        "print(sum)"
      ],
      "metadata": {
        "colab": {
          "base_uri": "https://localhost:8080/"
        },
        "id": "5bMgl7z8RzVG",
        "outputId": "e033ef01-4fda-4762-cbf6-58075dcbf4a0"
      },
      "execution_count": null,
      "outputs": [
        {
          "output_type": "stream",
          "name": "stdout",
          "text": [
            "100\n"
          ]
        }
      ]
    },
    {
      "cell_type": "code",
      "source": [
        "#To find the maximum of a list\n",
        "list=[10,20,4,45,99]\n",
        "max=list[0]\n",
        "for i in range(0,len(list)):\n",
        "  if(list[i]>max):\n",
        "    max=list[i]\n",
        "print(max)"
      ],
      "metadata": {
        "colab": {
          "base_uri": "https://localhost:8080/"
        },
        "id": "4YYIMU2NaCP7",
        "outputId": "dd3da19c-8163-49ab-839a-9f542f21cf21"
      },
      "execution_count": null,
      "outputs": [
        {
          "output_type": "stream",
          "name": "stdout",
          "text": [
            "99\n"
          ]
        }
      ]
    },
    {
      "cell_type": "code",
      "source": [
        "#To remove the duplicates in a list\n",
        "list=[1,2,2,3,4,4,5]\n",
        "unique=[]\n",
        "print(\"orignal list =>\",list)\n",
        "for i in list:\n",
        "  if i  not in unique:\n",
        "    unique.append(i)\n",
        "print(\"After removing duplicates=>\",unique)"
      ],
      "metadata": {
        "colab": {
          "base_uri": "https://localhost:8080/"
        },
        "id": "5nUacsLr52gq",
        "outputId": "ce16ebeb-5e41-4bb6-9f9d-b20d60c4b691"
      },
      "execution_count": null,
      "outputs": [
        {
          "output_type": "stream",
          "name": "stdout",
          "text": [
            "orignal list => [1, 2, 2, 3, 4, 4, 5]\n",
            "After removing duplicates=> [1, 2, 3, 4, 5]\n"
          ]
        }
      ]
    },
    {
      "cell_type": "code",
      "source": [
        "#Pairs that add up to target value\n",
        "list=[1,2,3,4,3,5,6]\n",
        "for i in range(0,len(list)):\n",
        "  for j in range(i+1,len(list)):\n",
        "    if(list[i]+list[j]==6):\n",
        "      print(\"pairs are=>\", list[i],list[j])"
      ],
      "metadata": {
        "colab": {
          "base_uri": "https://localhost:8080/"
        },
        "id": "GkzKFAg97ynp",
        "outputId": "f346c6fa-0373-486d-d4c3-90b87bebb43d"
      },
      "execution_count": null,
      "outputs": [
        {
          "output_type": "stream",
          "name": "stdout",
          "text": [
            "pairs are=> 1 5\n",
            "pairs are=> 2 4\n",
            "pairs are=> 3 3\n"
          ]
        }
      ]
    },
    {
      "cell_type": "code",
      "source": [
        "#Sum of elements excluding min & max\n",
        "list=[1,2,3,4,5]\n",
        "max=list[0]\n",
        "min=list[0]\n",
        "sum=0\n",
        "for i in range(0,len(list)):\n",
        "  if(list[i]>max):\n",
        "    max=list[i]\n",
        "  if(list[i]<min):\n",
        "    min=list[i]\n",
        "\n",
        "  sum=sum+list[i]\n",
        "sum=sum-(max+min)\n",
        "print(\"Maximum of list=>\", max)\n",
        "print(\"Minimum of list=>\", min)\n",
        "print(\"Sum after excluding min & max =>\", sum)"
      ],
      "metadata": {
        "colab": {
          "base_uri": "https://localhost:8080/"
        },
        "id": "SoAcMd6U9Vnd",
        "outputId": "36ca7f76-27d5-4c00-9bdd-9e22516a8551"
      },
      "execution_count": null,
      "outputs": [
        {
          "output_type": "stream",
          "name": "stdout",
          "text": [
            "Maximum of list=> 5\n",
            "Minimum of list=> 1\n",
            "Sum after excluding min & max => 9\n"
          ]
        }
      ]
    }
  ]
}