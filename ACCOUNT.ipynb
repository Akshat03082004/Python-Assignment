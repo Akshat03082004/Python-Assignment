{
  "nbformat": 4,
  "nbformat_minor": 0,
  "metadata": {
    "colab": {
      "provenance": [],
      "authorship_tag": "ABX9TyNL4Vw97iZ+T4zkrHxHkqPE"
    },
    "kernelspec": {
      "name": "python3",
      "display_name": "Python 3"
    },
    "language_info": {
      "name": "python"
    }
  },
  "cells": [
    {
      "cell_type": "code",
      "execution_count": 1,
      "metadata": {
        "colab": {
          "base_uri": "https://localhost:8080/"
        },
        "id": "ZEhsNgwZ5f_E",
        "outputId": "0982bfc2-714b-4d73-919a-d242fc40b987"
      },
      "outputs": [
        {
          "output_type": "stream",
          "name": "stdout",
          "text": [
            "\n",
            " Account: Akshat\n",
            "Initial Balance: 1000\n",
            " After Deposit: 1500\n",
            " After Withdrawal: 1300\n",
            "Interest applied at 5%\n",
            " After Interest: 1365.0\n",
            "\n",
            " Account: Rahul\n",
            "Initial Balance: 1000\n",
            " After Deposit: 1500\n",
            " After Withdrawal: 1300\n",
            " No interest for Current Account\n",
            " After Interest: 1300\n"
          ]
        }
      ],
      "source": [
        "from abc import ABC, abstractmethod\n",
        "\n",
        "\n",
        "class Account(ABC):\n",
        "    def __init__(self, accountno, accountname, balance):\n",
        "        self.accountno = accountno\n",
        "        self.accountname = accountname\n",
        "        self._balance = balance  # protected\n",
        "\n",
        "    def deposit(self, amount):\n",
        "        if amount > 0:\n",
        "            self._balance += amount\n",
        "        else:\n",
        "            print(\"Amount must be positive\")\n",
        "\n",
        "    def withdraw(self, amount):\n",
        "        if amount <= self._balance:\n",
        "            self._balance -= amount\n",
        "        else:\n",
        "            print(\" Insufficient funds\")\n",
        "\n",
        "    @property\n",
        "    def showamount(self):\n",
        "        return self._balance\n",
        "\n",
        "\n",
        "    @abstractmethod\n",
        "    def apply_interest(self):\n",
        "        pass\n",
        "\n",
        "\n",
        "\n",
        "class SavingAccount(Account):\n",
        "    def apply_interest(self):\n",
        "        interest = 5  # 5% for savings\n",
        "        self._balance += (self._balance * interest) / 100\n",
        "        print(\"Interest applied at 5%\")\n",
        "\n",
        "\n",
        "\n",
        "class CurrentAccount(Account):\n",
        "    def apply_interest(self):\n",
        "        print(\" No interest for Current Account\")\n",
        "\n",
        "\n",
        "\n",
        "def account_actions(acc):\n",
        "    print(f\"\\n Account: {acc.accountname}\")\n",
        "    print(\"Initial Balance:\", acc.showamount)\n",
        "    acc.deposit(500)\n",
        "    print(\" After Deposit:\", acc.showamount)\n",
        "    acc.withdraw(200)\n",
        "    print(\" After Withdrawal:\", acc.showamount)\n",
        "    acc.apply_interest()\n",
        "    print(\" After Interest:\", acc.showamount)\n",
        "\n",
        "\n",
        "\n",
        "acc1 = SavingAccount(101, \"Akshat\", 1000)\n",
        "acc2 = CurrentAccount(102, \"Rahul\", 1000)\n",
        "\n",
        "account_actions(acc1)\n",
        "account_actions(acc2)\n"
      ]
    }
  ]
}