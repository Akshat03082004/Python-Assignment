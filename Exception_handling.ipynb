{
  "nbformat": 4,
  "nbformat_minor": 0,
  "metadata": {
    "colab": {
      "provenance": [],
      "authorship_tag": "ABX9TyM11URpMrcso7l3Z6oJfD97"
    },
    "kernelspec": {
      "name": "python3",
      "display_name": "Python 3"
    },
    "language_info": {
      "name": "python"
    }
  },
  "cells": [
    {
      "cell_type": "code",
      "execution_count": null,
      "metadata": {
        "id": "1L0R3BObrfYL"
      },
      "outputs": [],
      "source": [
        "#Exception Handling\n",
        "#exception -=> unwanted condition => terminate or result"
      ]
    },
    {
      "cell_type": "code",
      "source": [
        "try:                      # A block in which we place our code in\n",
        "  x=50\n",
        "  x=X/5\n",
        "\n",
        "  print(\"hey\")\n",
        "\n",
        "except NameError as e:      #Exception this is a class\n",
        "  print(\"Error:\",e)"
      ],
      "metadata": {
        "colab": {
          "base_uri": "https://localhost:8080/"
        },
        "id": "GBbcx2khsqK3",
        "outputId": "64fc217f-9870-43b0-a8b1-c2f4132de969"
      },
      "execution_count": 8,
      "outputs": [
        {
          "output_type": "stream",
          "name": "stdout",
          "text": [
            "Error: name 'X' is not defined\n"
          ]
        }
      ]
    },
    {
      "cell_type": "code",
      "source": [
        "try:\n",
        "  x=50\n",
        "  X=x/5\n",
        "  x+\"hey\"\n",
        "  print(\"hey\")\n",
        "\n",
        "except (NameError,TypeError) as e:      #Two error types can be paced together\n",
        "  print(\"Error:\",e)"
      ],
      "metadata": {
        "colab": {
          "base_uri": "https://localhost:8080/"
        },
        "id": "D-3N0v31uYP_",
        "outputId": "14f2fac1-3a39-49ea-b25f-90650096ddae"
      },
      "execution_count": 13,
      "outputs": [
        {
          "output_type": "stream",
          "name": "stdout",
          "text": [
            "Error: unsupported operand type(s) for +: 'int' and 'str'\n"
          ]
        }
      ]
    },
    {
      "cell_type": "code",
      "source": [
        "''' except Exception class can handle all the other errors\n",
        "except those we have mentioned above already'''"
      ],
      "metadata": {
        "id": "dWqyDBY5ul3p"
      },
      "execution_count": 14,
      "outputs": []
    },
    {
      "cell_type": "code",
      "source": [
        "# Nested Try Except\n",
        "\n",
        "try:\n",
        "  x=50\n",
        "  X=x/5\n",
        "  try:\n",
        "    \"hey\"[10]\n",
        "  except:\n",
        "    print(\"nested error handled\")\n",
        "  print(\"hey\")\n",
        "\n",
        "except (NameError,TypeError) as e:      #Two error types can be paced together\n",
        "  print(\"Error:\",e)\n"
      ],
      "metadata": {
        "colab": {
          "base_uri": "https://localhost:8080/"
        },
        "id": "GZEIqx_Vvuk7",
        "outputId": "27cabf41-d7ba-4881-9441-d4b159dbb947"
      },
      "execution_count": 15,
      "outputs": [
        {
          "output_type": "stream",
          "name": "stdout",
          "text": [
            "nested error handled\n",
            "hey\n"
          ]
        }
      ]
    },
    {
      "cell_type": "code",
      "source": [
        "#Else block of exception handling\n",
        "\n",
        "try:\n",
        "  x=50\n",
        "  X=x/5\n",
        "\n",
        "  print(\"hey\")\n",
        "\n",
        "except (NameError,TypeError) as e:\n",
        "\n",
        "else:\n",
        "  print('successfully worked')"
      ],
      "metadata": {
        "colab": {
          "base_uri": "https://localhost:8080/"
        },
        "id": "LqMV3_QHwaCX",
        "outputId": "2bd2fd4a-d8cd-4e8f-f620-762ba78fed14"
      },
      "execution_count": 18,
      "outputs": [
        {
          "output_type": "stream",
          "name": "stdout",
          "text": [
            "hey\n",
            "successfully worked\n"
          ]
        }
      ]
    },
    {
      "cell_type": "code",
      "source": [
        "#  ASSERT KEYWORD\n",
        "\n",
        "def div(a,b):\n",
        "  assert b!=0\n",
        "  return a/b\n",
        "\n",
        "print(\"normal Case\")\n",
        "print(div(10,2))\n",
        "\n",
        "''' Assertion error  ---> div(10,0) '''\n",
        "\n",
        "#div(10,0)     #Assertion Error"
      ],
      "metadata": {
        "colab": {
          "base_uri": "https://localhost:8080/",
          "height": 70
        },
        "id": "HixdM3dpxMMy",
        "outputId": "f40bc1fd-1bb9-4709-be3a-620d5351e471"
      },
      "execution_count": 27,
      "outputs": [
        {
          "output_type": "stream",
          "name": "stdout",
          "text": [
            "normal Case\n",
            "5.0\n"
          ]
        },
        {
          "output_type": "execute_result",
          "data": {
            "text/plain": [
              "' Assertion error  ---> div(10,0) '"
            ],
            "application/vnd.google.colaboratory.intrinsic+json": {
              "type": "string"
            }
          },
          "metadata": {},
          "execution_count": 27
        }
      ]
    },
    {
      "cell_type": "code",
      "source": [
        "def check(num):\n",
        "  assert num>0\n",
        "  return \"Correct\"\n",
        "\n",
        "check(11)"
      ],
      "metadata": {
        "colab": {
          "base_uri": "https://localhost:8080/",
          "height": 36
        },
        "id": "4Wq1yV1GzIzU",
        "outputId": "5b7892ee-fb9f-4959-a531-0804ed0ea6b8"
      },
      "execution_count": 38,
      "outputs": [
        {
          "output_type": "execute_result",
          "data": {
            "text/plain": [
              "'Correct'"
            ],
            "application/vnd.google.colaboratory.intrinsic+json": {
              "type": "string"
            }
          },
          "metadata": {},
          "execution_count": 38
        }
      ]
    },
    {
      "cell_type": "code",
      "source": [
        "    #Raise keyword\n",
        "\n",
        "    def divide(a, b):\n",
        "        if b == 0:\n",
        "            raise ValueError(\"Cannot divide by zero!\")  #user can generate its own\n",
        "        return a / b\n",
        "\n",
        "    try:\n",
        "        result = divide(10, 0)\n",
        "    except ValueError as e:\n",
        "        print(f\"Error: {e}\")"
      ],
      "metadata": {
        "colab": {
          "base_uri": "https://localhost:8080/"
        },
        "id": "egbExG6-zl9N",
        "outputId": "35e1e84a-eed9-43dc-c646-fb2d677e790e"
      },
      "execution_count": 58,
      "outputs": [
        {
          "output_type": "stream",
          "name": "stdout",
          "text": [
            "Error: Cannot divide by zero!\n"
          ]
        }
      ]
    },
    {
      "cell_type": "code",
      "source": [
        "try:\n",
        "  a=10\n",
        "  if(a<10):\n",
        "    raise ValueError\n",
        "\n",
        "  else:\n",
        "    print(\"A value\",a)\n",
        "\n",
        "except:\n",
        "  print(\"value error to be handled\")"
      ],
      "metadata": {
        "colab": {
          "base_uri": "https://localhost:8080/"
        },
        "id": "ORtGQEjb0tAM",
        "outputId": "bea1dbc8-d735-4f19-bb78-fe25dce57db9"
      },
      "execution_count": 52,
      "outputs": [
        {
          "output_type": "stream",
          "name": "stdout",
          "text": [
            "A value 10\n"
          ]
        }
      ]
    }
  ]
}