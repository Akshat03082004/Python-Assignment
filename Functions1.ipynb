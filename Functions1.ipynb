{
  "nbformat": 4,
  "nbformat_minor": 0,
  "metadata": {
    "colab": {
      "provenance": [],
      "authorship_tag": "ABX9TyP4HyDHVRUlfwlOQfzduq/H"
    },
    "kernelspec": {
      "name": "python3",
      "display_name": "Python 3"
    },
    "language_info": {
      "name": "python"
    }
  },
  "cells": [
    {
      "cell_type": "code",
      "execution_count": null,
      "metadata": {
        "id": "QKsjWQ3YOi4e"
      },
      "outputs": [],
      "source": [
        "#FUNCTIONS\n",
        "'''\n",
        "Block of code => repetatively usuage\n",
        "\n",
        "make our code readble\n",
        "\n",
        "\n",
        "code reusablitiy\n",
        "\n",
        "No duplicacy\n",
        "'''"
      ]
    },
    {
      "cell_type": "code",
      "source": [
        "a=\"Akki\""
      ],
      "metadata": {
        "id": "x91lT-ABSnIp"
      },
      "execution_count": null,
      "outputs": []
    },
    {
      "cell_type": "code",
      "source": [
        "#user defined , and , inbuilt function\n",
        "\n",
        "'''\n",
        "int void(){\n",
        "\n",
        "  [logic]\n",
        "}\n",
        "\n",
        "def function_name():\n",
        "  logic\n",
        "\n",
        "  '''"
      ],
      "metadata": {
        "id": "7-HMA8b3RNLg"
      },
      "execution_count": null,
      "outputs": []
    },
    {
      "cell_type": "code",
      "source": [
        "def greeting():\n",
        "  print(\"hey user I welcome you on board\")\n",
        "\n",
        "greeting()\n",
        "greeting ()\n"
      ],
      "metadata": {
        "colab": {
          "base_uri": "https://localhost:8080/"
        },
        "id": "OUaFvlBqRj8r",
        "outputId": "9e1b05e4-297f-451d-f165-93896923857e"
      },
      "execution_count": 3,
      "outputs": [
        {
          "output_type": "stream",
          "name": "stdout",
          "text": [
            "hey user I welcome you on board\n",
            "hey user I welcome you on board\n"
          ]
        }
      ]
    },
    {
      "cell_type": "code",
      "source": [
        "def greeting(z):      #greeting=> argument and z=>parameter\n",
        "  print(\"hey user\",z, \"I welcome you on board\")\n",
        "\n",
        "greeting(\"Yash\")          #Yash & Akki are the values for z used above\n",
        "greeting (\"Akki\")\n"
      ],
      "metadata": {
        "colab": {
          "base_uri": "https://localhost:8080/"
        },
        "id": "XKkUHM3cRvkt",
        "outputId": "a03f3990-be7b-4a02-a75f-cbe3a8ace8af"
      },
      "execution_count": 5,
      "outputs": [
        {
          "output_type": "stream",
          "name": "stdout",
          "text": [
            "hey user Yash I welcome you on board\n",
            "hey user Akki I welcome you on board\n"
          ]
        }
      ]
    },
    {
      "cell_type": "code",
      "source": [
        "#function for factor\n",
        "def factor(num):\n",
        "  for i in range(1,num+1):\n",
        "    if(num%i==0):\n",
        "      print(\"factor of\",num,\"is\",i)"
      ],
      "metadata": {
        "id": "roXigq7pTSgA"
      },
      "execution_count": 8,
      "outputs": []
    },
    {
      "cell_type": "code",
      "source": [
        "factor(7)\n",
        "\n",
        "print()\n",
        "\n",
        "factor (8)"
      ],
      "metadata": {
        "colab": {
          "base_uri": "https://localhost:8080/"
        },
        "id": "Cfd9j6V6UBBR",
        "outputId": "7b4f0a7d-fdbe-4543-f08b-c23af4c09973"
      },
      "execution_count": 11,
      "outputs": [
        {
          "output_type": "stream",
          "name": "stdout",
          "text": [
            "factor of 7 is 1\n",
            "factor of 7 is 7\n",
            "\n",
            "factor of 8 is 1\n",
            "factor of 8 is 2\n",
            "factor of 8 is 4\n",
            "factor of 8 is 8\n"
          ]
        }
      ]
    },
    {
      "cell_type": "code",
      "source": [
        "def fun(id,name,salary):\n",
        "  print(f\"Id is {id} name is {name} and salary is {salary}\")"
      ],
      "metadata": {
        "id": "sJx2xTW-UTLD"
      },
      "execution_count": 17,
      "outputs": []
    },
    {
      "cell_type": "code",
      "source": [
        "fun(101,\"AKKI\",2000)      #Required argument (NEED SAME NUMBER OF PARAMETERS)\n",
        "                          #Positins matters in this"
      ],
      "metadata": {
        "colab": {
          "base_uri": "https://localhost:8080/"
        },
        "id": "LhTVdyy4VNVv",
        "outputId": "6f21cd6b-63c2-4051-9ba2-0a22c1b51ecb"
      },
      "execution_count": 20,
      "outputs": [
        {
          "output_type": "stream",
          "name": "stdout",
          "text": [
            "Id is 101 name is AKKI and salary is 2000\n"
          ]
        }
      ]
    },
    {
      "cell_type": "code",
      "source": [
        "fun(name=\"Yash\",id=102,salary=7500)  #Keyword argument"
      ],
      "metadata": {
        "colab": {
          "base_uri": "https://localhost:8080/"
        },
        "id": "WIwm5WMbVb2x",
        "outputId": "d7c56311-0574-4d96-f88c-f61942ca93e0"
      },
      "execution_count": 21,
      "outputs": [
        {
          "output_type": "stream",
          "name": "stdout",
          "text": [
            "Id is 102 name is Yash and salary is 7500\n"
          ]
        }
      ]
    },
    {
      "cell_type": "code",
      "source": [
        "#ARMSTRONG FUNCTION\n",
        "def armstrong(num):\n",
        "  temp=num\n",
        "  sum=0\n",
        "  power=len(str(num))\n",
        "  while(num>0):\n",
        "    digit=num%10\n",
        "    sum=sum+(digit**power)\n",
        "    num=num//10\n",
        "\n",
        "  if(sum==temp):\n",
        "    print(\"yes\")\n",
        "  else:\n",
        "    print('no')"
      ],
      "metadata": {
        "id": "qxMaTy2kV9pm"
      },
      "execution_count": 27,
      "outputs": []
    },
    {
      "cell_type": "code",
      "source": [
        "armstrong(153)"
      ],
      "metadata": {
        "colab": {
          "base_uri": "https://localhost:8080/"
        },
        "id": "0e9FVpwEaVsV",
        "outputId": "4a101799-38e3-4644-c983-84ef868ec1ec"
      },
      "execution_count": 28,
      "outputs": [
        {
          "output_type": "stream",
          "name": "stdout",
          "text": [
            "yes\n"
          ]
        }
      ]
    },
    {
      "cell_type": "code",
      "source": [
        "#Difference between return and print in the function\n",
        "'''\n",
        "\n",
        "def func(x):\n",
        "  retun(x+10)\n",
        "retrn helps to  return the value\n",
        "retun perform tasks\n",
        "will update the value of a\n",
        "\n",
        "a=func(5)\n",
        "print only prints the values\n",
        "print(\"a\",a)\n",
        "\n",
        "output=> a 15\n",
        "\n",
        "'''\n"
      ],
      "metadata": {
        "id": "NICrp3nham9u"
      },
      "execution_count": null,
      "outputs": []
    },
    {
      "cell_type": "code",
      "source": [
        "def lcm(num1,num2):\n",
        "\n",
        "\n",
        "\n",
        "  max_num = max(num1, num2)\n",
        "\n",
        "\n",
        "  while max_num % num1 != 0 or max_num % num2 != 0 :\n",
        "      max_num += 1\n",
        "\n",
        "  lcm = max_num\n",
        "\n",
        "  print(f\"The LCM of {num1} and {num2} is {lcm}.\")\n"
      ],
      "metadata": {
        "id": "Y_N4Db-ZbhZE"
      },
      "execution_count": 35,
      "outputs": []
    },
    {
      "cell_type": "code",
      "source": [
        "lcm(12,13)"
      ],
      "metadata": {
        "colab": {
          "base_uri": "https://localhost:8080/"
        },
        "id": "G52VcUCscNDe",
        "outputId": "92eeb511-e65b-4461-bcc7-23c449316245"
      },
      "execution_count": 37,
      "outputs": [
        {
          "output_type": "stream",
          "name": "stdout",
          "text": [
            "The LCM of 12 and 13 is 156.\n"
          ]
        }
      ]
    },
    {
      "cell_type": "code",
      "source": [
        "def lcm(num1,num2,num3):\n",
        "\n",
        "\n",
        "\n",
        "  max_num = max(num1, num2,num3)\n",
        "\n",
        "\n",
        "  while max_num % num1 != 0 or max_num % num2 != 0  or max_num%num3 !=0:\n",
        "      max_num += 1\n",
        "\n",
        "  lcm = max_num\n",
        "\n",
        "  print(f\"The LCM of {num1} and {num2} is {lcm}.\")"
      ],
      "metadata": {
        "id": "Vac09IB7ctfW"
      },
      "execution_count": 41,
      "outputs": []
    },
    {
      "cell_type": "code",
      "source": [
        "lcm(2,4,7)"
      ],
      "metadata": {
        "colab": {
          "base_uri": "https://localhost:8080/"
        },
        "id": "23lg8Zftcytg",
        "outputId": "b726a1f9-629b-464b-b4fb-a49d5a37b544"
      },
      "execution_count": 42,
      "outputs": [
        {
          "output_type": "stream",
          "name": "stdout",
          "text": [
            "The LCM of 2 and 4 is 28.\n"
          ]
        }
      ]
    }
  ]
}