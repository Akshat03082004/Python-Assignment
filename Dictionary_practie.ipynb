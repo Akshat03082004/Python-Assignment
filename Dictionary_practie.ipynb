{
  "nbformat": 4,
  "nbformat_minor": 0,
  "metadata": {
    "colab": {
      "provenance": [],
      "authorship_tag": "ABX9TyNs444B+/TeQS3KRwgFWTTo"
    },
    "kernelspec": {
      "name": "python3",
      "display_name": "Python 3"
    },
    "language_info": {
      "name": "python"
    }
  },
  "cells": [
    {
      "cell_type": "code",
      "source": [
        "#Dictionary\n"
      ],
      "metadata": {
        "id": "reAUgEsoQ-Lw"
      },
      "execution_count": null,
      "outputs": []
    },
    {
      "cell_type": "code",
      "source": [
        "dic={1:[\"akki, aks@gmail\"]}\n",
        "print(dic)"
      ],
      "metadata": {
        "colab": {
          "base_uri": "https://localhost:8080/"
        },
        "id": "lz-cIiqHRacl",
        "outputId": "67252351-d9d5-4af9-fbf3-762409858e46"
      },
      "execution_count": null,
      "outputs": [
        {
          "output_type": "stream",
          "name": "stdout",
          "text": [
            "{1: ['akki, aks@gmail']}\n"
          ]
        }
      ]
    },
    {
      "cell_type": "code",
      "source": [
        "#Multiple dict. can be added into  a list\n",
        "\n",
        "#enumerate is the command to print together the index and values of a list\n",
        "\n",
        "#used in a loop to access the list"
      ],
      "metadata": {
        "id": "oNxeICi3Vbt0"
      },
      "execution_count": null,
      "outputs": []
    },
    {
      "cell_type": "code",
      "source": [
        "ques=[{\"Q1\":\"What is the Father of india ?\",\n",
        "      \"options\":[\"A. Gandhi\", \"B. Salman\", \"C. salman\"],\n",
        "      \"Ans\":\"Gandhi\"},\n",
        "\n",
        "    {\"Q2\":\"What is the national animal of india ?\",\n",
        "        \"options\":[\"A. Peacock\", \"B. Lion\", \"C. Tiger\"],\n",
        "        \"Ans\":\"tiger\"}\n",
        "]\n",
        "\n",
        "for i,j in enumerate(ques):     #to acces the items index & values wise\n",
        "\n",
        "  print(j)"
      ],
      "metadata": {
        "colab": {
          "base_uri": "https://localhost:8080/"
        },
        "id": "aKTSRc41SVig",
        "outputId": "eb487d02-69cc-4984-c2dd-4228f126d823"
      },
      "execution_count": null,
      "outputs": [
        {
          "output_type": "stream",
          "name": "stdout",
          "text": [
            "{'Q1': 'What is the Father of india ?', 'options': ['A. Gandhi', 'B. Salman', 'C. salman'], 'Ans': 'Gandhi'}\n",
            "{'Q2': 'What is the national animal of india ?', 'options': ['A. Peacock', 'B. Lion', 'C. Tiger'], 'Ans': 'tiger'}\n"
          ]
        }
      ]
    },
    {
      "cell_type": "code",
      "source": [
        "prizemoney=[1000,25000]\n",
        "for i,q in enumerate(prizemoney):\n",
        "  print(i,prizemoney[i])"
      ],
      "metadata": {
        "colab": {
          "base_uri": "https://localhost:8080/"
        },
        "id": "LL3uTFGDTWnI",
        "outputId": "e924683d-332f-4206-c523-4ce5ef7be423"
      },
      "execution_count": null,
      "outputs": [
        {
          "output_type": "stream",
          "name": "stdout",
          "text": [
            "0 1000\n",
            "1 25000\n"
          ]
        }
      ]
    },
    {
      "cell_type": "code",
      "source": [
        "ques=[{\"Questions\":\"What is the Father of india ?\",\n",
        "      \"options\":[\"A. Gandhi\", \"B. Salman\", \"C. salman\"],\n",
        "      \"Ans\":\"A\"},\n",
        "\n",
        "    {\"Questions\":\"What is the national animal of india ?\",\n",
        "        \"options\":[\"A. Peacock\", \"B. Lion\", \"C. Tiger\"],\n",
        "        \"Ans\":\"C\"}\n",
        "]\n",
        "\n",
        "print(\"Welcome to kaun Banega Crorpati\")\n",
        "total_winning=0\n",
        "prizemoney=[1000,25000]\n",
        "for i,q in enumerate(ques):\n",
        "  print(f\"The {i+1} questions for money {prizemoney[i]} is in front of you \\n\")\n",
        "  print(q[\"Questions\"])\n",
        "  for option in q[\"options\"]:\n",
        "    print(option)\n",
        "\n",
        "  user_input=input(\"choose the answer from A,B,C :  or Press Q for quit\")\n",
        "  user_input=user_input.upper()\n",
        "  if(user_input==\"Q\"):\n",
        "    print(f\"Thank you for the game you won {total_winning}\",)\n",
        "    break\n",
        "  if(user_input==q[\"Ans\"] ):\n",
        "    total_winning+=prizemoney[i]\n",
        "    print(f\"kya baat aap jeet chuke hai {total_winning}\")\n",
        "\n",
        "  else:\n",
        "    print(f\"uff aap haar gaye \")\n",
        "    print(f\"Game Overrrrr!!!\")\n",
        "    total_winning=0\n",
        "    break\n"
      ],
      "metadata": {
        "colab": {
          "base_uri": "https://localhost:8080/"
        },
        "id": "sqnjZyqmZS6Q",
        "outputId": "e03743da-0f2e-49f1-f6d6-84d962cfd949"
      },
      "execution_count": null,
      "outputs": [
        {
          "output_type": "stream",
          "name": "stdout",
          "text": [
            "Welcome to kaun Banega Crorpati\n",
            "The 1 questions for money 1000 is in front of you \n",
            "\n",
            "What is the Father of india ?\n",
            "A. Gandhi\n",
            "B. Salman\n",
            "C. salman\n",
            "choose the answer from A,B,C :  or Press Q for quitc\n",
            "uff aap haar gaye \n",
            "Game Overrrrr!!!\n"
          ]
        }
      ]
    },
    {
      "cell_type": "code",
      "source": [
        "#Counting the number of elements in a list using dictionary\n",
        "list=[10,20,10,40,50,30,50]\n",
        "dict={}\n",
        "for i in list:\n",
        "  if (i in dict):\n",
        "    dict[i]=dict[i]+1     #To update a values\n",
        "  else:\n",
        "    dict[i]=1\n",
        "print(dict)"
      ],
      "metadata": {
        "colab": {
          "base_uri": "https://localhost:8080/"
        },
        "id": "0sOXLL9FWYBp",
        "outputId": "7c0f73d7-e9e4-4a5d-faeb-9e4c1af51143"
      },
      "execution_count": null,
      "outputs": [
        {
          "output_type": "stream",
          "name": "stdout",
          "text": [
            "{10: 2, 20: 1, 40: 1, 50: 2, 30: 1}\n"
          ]
        }
      ]
    },
    {
      "cell_type": "code",
      "source": [
        "#Simple count program for a dictionary\n",
        "d={10:1 ,20:1}\n",
        "if(20 in d ):\n",
        "  d[20]=d[20]+1\n",
        "else:\n",
        "  d[20]=1\n",
        "print(d)"
      ],
      "metadata": {
        "colab": {
          "base_uri": "https://localhost:8080/"
        },
        "id": "XS_pYIcnXeHg",
        "outputId": "1b665eb5-8ecd-448a-ccf5-9a1ee00de0da"
      },
      "execution_count": null,
      "outputs": [
        {
          "output_type": "stream",
          "name": "stdout",
          "text": [
            "{10: 1, 20: 2}\n"
          ]
        }
      ]
    },
    {
      "cell_type": "code",
      "source": [
        "s=\"abc\"\n",
        "dic={}\n",
        "#To find all the combinations possible with a\n",
        "for i in range(0,4):\n",
        "  data=\"\"\n",
        "\n",
        "  for j in range(0,i):\n",
        "    print(i,j,s[j])\n",
        "    data=data+s[j]\n",
        "  print(\"data =>>\",data)\n",
        "\n",
        "  if(i in dic):\n",
        "    dic[i].append(data)\n",
        "\n",
        "  else:\n",
        "    dic[i]=data\n",
        "\n",
        "print(dic)\n",
        "\n",
        "\n",
        "\n",
        "\n",
        "\n",
        "\n"
      ],
      "metadata": {
        "colab": {
          "base_uri": "https://localhost:8080/"
        },
        "id": "7j6oVZl3Yo27",
        "outputId": "7737eda5-96bd-4835-f290-7ba32aad336c"
      },
      "execution_count": null,
      "outputs": [
        {
          "output_type": "stream",
          "name": "stdout",
          "text": [
            "data =>> \n",
            "1 0 a\n",
            "data =>> a\n",
            "2 0 a\n",
            "2 1 b\n",
            "data =>> ab\n",
            "3 0 a\n",
            "3 1 b\n",
            "3 2 c\n",
            "data =>> abc\n",
            "{0: '', 1: 'a', 2: 'ab', 3: 'abc'}\n"
          ]
        }
      ]
    },
    {
      "cell_type": "code",
      "source": [
        "\n",
        "#TO print like ABC=>>>ZYX\n",
        "s=\"ABC\"\n",
        "for i in s:\n",
        "   result = \"\"\n",
        "   for char in s:\n",
        "        result += chr(155 - ord(char))\n",
        "\n",
        "print(result)\n"
      ],
      "metadata": {
        "colab": {
          "base_uri": "https://localhost:8080/"
        },
        "id": "PHJ9GSu5hP0o",
        "outputId": "510ea371-133c-40d8-9cf1-a2940fb42b0e"
      },
      "execution_count": null,
      "outputs": [
        {
          "output_type": "stream",
          "name": "stdout",
          "text": [
            "ZYX\n"
          ]
        }
      ]
    },
    {
      "cell_type": "code",
      "source": [
        "#PASCAL Triangle\n",
        "x=1\n",
        "temp=[]\n",
        "mylist=[]\n",
        "num=4\n",
        "print(\"Pascal Triangle \")\n",
        "for i in range(0,num):\n",
        "  temp=[]\n",
        "  for j in range(i,num):\n",
        "    print(\" \",end=\"\")\n",
        "  for k in range(0,i+1):\n",
        "    if(k==i or k==0):\n",
        "      print(1,end=\" \")\n",
        "      temp.append(1)\n",
        "    else:\n",
        "      t=mylist[i-1][k-1] + mylist[i-1][k]\n",
        "      print(t,end=\" \")\n",
        "      temp.append(t)\n",
        "\n",
        "  mylist.append(temp)\n",
        "  print(\"\")\n",
        "\n",
        "print(\"list for the pascal triangle is =>>\")\n",
        "print(mylist)\n",
        ""
      ],
      "metadata": {
        "id": "_etXTWVHkpoj",
        "colab": {
          "base_uri": "https://localhost:8080/"
        },
        "outputId": "0ac4f15c-dacc-4312-e2af-b95ae444bc72"
      },
      "execution_count": 34,
      "outputs": [
        {
          "output_type": "stream",
          "name": "stdout",
          "text": [
            "Pascal Triangle \n",
            "    1 \n",
            "   1 1 \n",
            "  1 2 1 \n",
            " 1 3 3 1 \n",
            "list for the pascal triangle is =>>\n",
            "[[1], [1, 1], [1, 2, 1], [1, 3, 3, 1]]\n"
          ]
        }
      ]
    },
    {
      "cell_type": "code",
      "source": [],
      "metadata": {
        "id": "dr4yWfOsqUHc"
      },
      "execution_count": null,
      "outputs": []
    }
  ]
}