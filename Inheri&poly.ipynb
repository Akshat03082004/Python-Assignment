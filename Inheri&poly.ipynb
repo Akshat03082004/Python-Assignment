{
  "nbformat": 4,
  "nbformat_minor": 0,
  "metadata": {
    "colab": {
      "provenance": [],
      "authorship_tag": "ABX9TyM4Rnb2lPCqhRgpdaJXJr2f"
    },
    "kernelspec": {
      "name": "python3",
      "display_name": "Python 3"
    },
    "language_info": {
      "name": "python"
    }
  },
  "cells": [
    {
      "cell_type": "code",
      "execution_count": null,
      "metadata": {
        "id": "KIGOcJ_WdHAJ"
      },
      "outputs": [],
      "source": [
        "# INHERITANCE #\n",
        "\n",
        "#Class A=>  variable/method => [Parent class]\n",
        "\n",
        "#class B=> [child class] {Inherited}\n"
      ]
    },
    {
      "cell_type": "code",
      "source": [
        "class vehicle:\n",
        "  company=\"Maruti\"\n",
        "\n",
        "class marutiev:\n",
        "  price=10000\n",
        "\n",
        "me1=marutiev()\n",
        "print(me1.price)"
      ],
      "metadata": {
        "colab": {
          "base_uri": "https://localhost:8080/"
        },
        "id": "4qQUQMocx_Ha",
        "outputId": "8bac2b3c-4475-4d09-81f9-432e59da32a6"
      },
      "execution_count": null,
      "outputs": [
        {
          "output_type": "stream",
          "name": "stdout",
          "text": [
            "10000\n"
          ]
        }
      ]
    },
    {
      "cell_type": "code",
      "source": [
        "class vehicle:\n",
        "  company=\"Maruti\"\n",
        "\n",
        "class marutiev(vehicle):    #Inheritance\n",
        "  price=10000\n",
        "\n",
        "me1=marutiev()\n",
        "print(\"Details are:\" ,me1.price, me1.company)"
      ],
      "metadata": {
        "colab": {
          "base_uri": "https://localhost:8080/"
        },
        "id": "IjbtqcgGzEwW",
        "outputId": "346c350a-8874-4fee-e4b2-16139fe4ecf8"
      },
      "execution_count": null,
      "outputs": [
        {
          "output_type": "stream",
          "name": "stdout",
          "text": [
            "Details are: 10000 Maruti\n"
          ]
        }
      ]
    },
    {
      "cell_type": "code",
      "source": [
        "class vehicle:\n",
        "  company=\"Maruti\"\n",
        "  def info(self):\n",
        "    print(\"abcde\")\n",
        "\n",
        "class marutiev(vehicle):\n",
        "  price=10000\n",
        "  def minfo(self):\n",
        "    super().info()    #super()=> to access the methods of parent class\n",
        "\n",
        "me1=marutiev()\n",
        "print(\"Details are:\" ,me1.price, me1.company)\n",
        "me1.minfo()"
      ],
      "metadata": {
        "colab": {
          "base_uri": "https://localhost:8080/"
        },
        "id": "z0Qigo-Kyutz",
        "outputId": "3cfbcec2-9001-4348-b569-9c9ad16d4b33"
      },
      "execution_count": null,
      "outputs": [
        {
          "output_type": "stream",
          "name": "stdout",
          "text": [
            "Details are: 10000 Maruti\n",
            "abcde\n"
          ]
        }
      ]
    },
    {
      "cell_type": "code",
      "source": [
        "class ParentTata:\n",
        "  def __init__(self,mid,name):\n",
        "    self.mid=mid\n",
        "    self.name=name\n",
        "\n",
        "class ChildTataEv(ParentTata):\n",
        "  def __init__(self ,a, b):\n",
        "    super().__init__(a,b)\n",
        "    print(\"hey chil class object\",a,b)"
      ],
      "metadata": {
        "id": "VzkmDdx_2LSw"
      },
      "execution_count": null,
      "outputs": []
    },
    {
      "cell_type": "code",
      "source": [
        "c1=ParentTata(1001,\"Indica\")\n",
        "c1.mid"
      ],
      "metadata": {
        "colab": {
          "base_uri": "https://localhost:8080/"
        },
        "id": "dI_IzAtU5kP3",
        "outputId": "5f29006a-c811-4121-e188-8a763766a8ff"
      },
      "execution_count": null,
      "outputs": [
        {
          "output_type": "execute_result",
          "data": {
            "text/plain": [
              "1001"
            ]
          },
          "metadata": {},
          "execution_count": 26
        }
      ]
    },
    {
      "cell_type": "code",
      "source": [
        "'''\n",
        "Super refers to Parent class\n",
        "\n",
        "Self refers to Current class\n",
        "\n",
        "'''"
      ],
      "metadata": {
        "id": "CzIi0F9l7gOm"
      },
      "execution_count": null,
      "outputs": []
    },
    {
      "cell_type": "code",
      "source": [
        "'''Polymorphism\n",
        "  :-->> where the object , function ,operator behave differently\n",
        "  on the basis of situation\n",
        "'''"
      ],
      "metadata": {
        "id": "THDCekRiZ2Z5"
      },
      "execution_count": null,
      "outputs": []
    },
    {
      "cell_type": "code",
      "source": [],
      "metadata": {
        "id": "cY9oTTIbaoEt"
      },
      "execution_count": null,
      "outputs": []
    },
    {
      "cell_type": "code",
      "source": [
        "class employee:\n",
        "  def info(self):\n",
        "    print(\"This is info function\")"
      ],
      "metadata": {
        "id": "qMf3xmKS_553"
      },
      "execution_count": 1,
      "outputs": []
    },
    {
      "cell_type": "code",
      "source": [
        "class employeehabit:\n",
        "  def info(self):\n",
        "    print(\"Info inside the habit class\")\n",
        "\n",
        "eh1=employeehabit()\n",
        "eh1.info()"
      ],
      "metadata": {
        "colab": {
          "base_uri": "https://localhost:8080/"
        },
        "id": "brfhyCOCZd0n",
        "outputId": "67278af9-cb10-4cbc-ae52-740c049e477a"
      },
      "execution_count": 3,
      "outputs": [
        {
          "output_type": "stream",
          "name": "stdout",
          "text": [
            "Info inside the habit class\n"
          ]
        }
      ]
    },
    {
      "cell_type": "code",
      "source": [
        "'''\n",
        "(I)what is method overloading??\n",
        "Ans-> it is a mechanism to achieve poly. where the function is overloaded\n",
        "      by changing the number of parameters.\n",
        "\n",
        "  class employee:\n",
        "    def info(self,x):\n",
        "      print(\"This is info function\",x)\n",
        "\n",
        "  class employee:\n",
        "    def info(self,x,y):\n",
        "      print(\"This is info function\",x,y)\n",
        "\n",
        "\n",
        "    #This will run when call, python dont have method overloading\n",
        "\n",
        "'''"
      ],
      "metadata": {
        "id": "c4G6TlqfZpGY"
      },
      "execution_count": null,
      "outputs": []
    },
    {
      "cell_type": "code",
      "source": [
        "'''\n",
        "\n",
        "(II) What is method over ridding??\n",
        "Ans-> It is a mechanism to achieve poly.\n",
        "      where the parent and the child class have the same name of function\n",
        "      with same parameters\n",
        "\n",
        "    class employee:\n",
        "      def info(self):\n",
        "        print(\"This is info function\")\n",
        "\n",
        "    class employeehabit(employee):\n",
        "      def info(self):\n",
        "        print(\"Info inside the habit class\")  #Method overriding\n",
        "\n",
        "\n",
        "'''"
      ],
      "metadata": {
        "id": "EQRm3o0Qb29d"
      },
      "execution_count": null,
      "outputs": []
    },
    {
      "cell_type": "code",
      "source": [
        "class Employee:\n",
        "  def __init__(self,id,name,email):\n",
        "    self.id=id\n",
        "    self.name=name\n",
        "    self.email=email\n",
        "  def info(self):\n",
        "    print(f\"Employee has {self.id} and {self.name}\")"
      ],
      "metadata": {
        "id": "YhBLEa3GeLKq"
      },
      "execution_count": 15,
      "outputs": []
    },
    {
      "cell_type": "code",
      "source": [
        "class Customer(Employee):\n",
        "  def __init__(self):\n",
        "    super().__init__(100,\"Aksh\",\"Aksh@1234\")\n",
        "\n",
        "  def info(self):   #Method Over-Riding\n",
        "    print(f\"customer has {self.id} and {self.name}\")\n",
        "\n",
        "c1=Customer()\n",
        "c1.info()"
      ],
      "metadata": {
        "colab": {
          "base_uri": "https://localhost:8080/"
        },
        "id": "1wTLDhHrgfet",
        "outputId": "6d3a835a-d59f-44ad-8b63-dccfa786c2b7"
      },
      "execution_count": 18,
      "outputs": [
        {
          "output_type": "stream",
          "name": "stdout",
          "text": [
            "customer has 100 and Aksh\n"
          ]
        }
      ]
    },
    {
      "cell_type": "code",
      "source": [
        "class MyClass:\n",
        "    def __init__(self, num1,num2):\n",
        "        self.num1=num1\n",
        "        self.num2=num2\n",
        "    def __add__(self,x):\n",
        "      print(\"calling + on a1 and a2\")\n",
        "a1=MyClass(10,20)\n",
        "a2=MyClass(30,40)\n"
      ],
      "metadata": {
        "id": "IXpau4--lIlK"
      },
      "execution_count": 25,
      "outputs": []
    },
    {
      "cell_type": "code",
      "source": [
        "x=a1+a2\n",
        "#Operator Overload  __add__\n",
        "# __sub__ (-)\n"
      ],
      "metadata": {
        "colab": {
          "base_uri": "https://localhost:8080/"
        },
        "id": "dOS-6MwwmCxA",
        "outputId": "e255b374-60a3-4952-c2bb-c8bf52258e8a"
      },
      "execution_count": 27,
      "outputs": [
        {
          "output_type": "stream",
          "name": "stdout",
          "text": [
            "calling + on a1 and a2\n"
          ]
        }
      ]
    },
    {
      "cell_type": "code",
      "source": [],
      "metadata": {
        "id": "dyAD_tLloW2L"
      },
      "execution_count": null,
      "outputs": []
    }
  ]
}