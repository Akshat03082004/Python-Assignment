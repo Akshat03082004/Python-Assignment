{
  "nbformat": 4,
  "nbformat_minor": 0,
  "metadata": {
    "colab": {
      "provenance": [],
      "authorship_tag": "ABX9TyOSgwMrtr7TLpoaz1BvxMHs"
    },
    "kernelspec": {
      "name": "python3",
      "display_name": "Python 3"
    },
    "language_info": {
      "name": "python"
    }
  },
  "cells": [
    {
      "cell_type": "code",
      "execution_count": 4,
      "metadata": {
        "colab": {
          "base_uri": "https://localhost:8080/"
        },
        "id": "GNHeSl0uXxAk",
        "outputId": "d82c01f0-5d26-4e7c-bf25-63aa862ae3c9"
      },
      "outputs": [
        {
          "output_type": "stream",
          "name": "stdout",
          "text": [
            "('akki', 'Single')\n"
          ]
        }
      ],
      "source": [
        "#variable length => input can be of variable length\n",
        "\n",
        "def facebook(*args):\n",
        "  print(args)\n",
        "\n",
        "\n",
        "facebook(\"akki\",\"Single\")\n",
        "\n"
      ]
    },
    {
      "cell_type": "code",
      "source": [
        "#Keyword variable argument => Can be of variable inputs but with keyword\n",
        "\n",
        "def facebook1(**kwargs):\n",
        "  print(kwargs)\n",
        "\n",
        "facebook1(name=\"Akkki\")\n",
        "facebook1(college=\"Modi\",married_status=\"Single\")"
      ],
      "metadata": {
        "colab": {
          "base_uri": "https://localhost:8080/"
        },
        "id": "Bq_huWUpaKfZ",
        "outputId": "8a24a01a-6921-4cc4-f049-c904cf2cd542"
      },
      "execution_count": 10,
      "outputs": [
        {
          "output_type": "stream",
          "name": "stdout",
          "text": [
            "{'name': 'Akkki'}\n",
            "{'college': 'Modi', 'married_status': 'Single'}\n"
          ]
        }
      ]
    },
    {
      "cell_type": "code",
      "source": [
        "#lambda function\n",
        "#One line function\n",
        "#anonymous function because they dont have the name"
      ],
      "metadata": {
        "id": "IG0S5Qc-aubS"
      },
      "execution_count": 11,
      "outputs": []
    },
    {
      "cell_type": "code",
      "source": [
        "def func(x):\n",
        "  print(x+10)\n",
        "  return 0    #if this is not used the out will give none\n",
        "\n",
        "\n",
        "out=func(15)\n",
        "print(\"after function:\",out)"
      ],
      "metadata": {
        "colab": {
          "base_uri": "https://localhost:8080/"
        },
        "id": "wXYl4FxaccJp",
        "outputId": "4ba3d829-b4dc-4234-d0cc-f0740daa2dcc"
      },
      "execution_count": 22,
      "outputs": [
        {
          "output_type": "stream",
          "name": "stdout",
          "text": [
            "25\n",
            "after function: 0\n"
          ]
        }
      ]
    },
    {
      "cell_type": "code",
      "source": [
        "(lambda x: x+10)(20)\n"
      ],
      "metadata": {
        "colab": {
          "base_uri": "https://localhost:8080/"
        },
        "id": "P173bpFhcmkN",
        "outputId": "def60ac8-bb68-4d4d-baf4-43fe4cb947f8"
      },
      "execution_count": 19,
      "outputs": [
        {
          "output_type": "execute_result",
          "data": {
            "text/plain": [
              "30"
            ]
          },
          "metadata": {},
          "execution_count": 19
        }
      ]
    },
    {
      "cell_type": "code",
      "source": [
        "a=lambda x:x+10\n",
        "a(10)"
      ],
      "metadata": {
        "colab": {
          "base_uri": "https://localhost:8080/"
        },
        "id": "fkj8J34rfD7o",
        "outputId": "34b79a8a-9ea7-49cd-febd-2485ba4bed03"
      },
      "execution_count": 20,
      "outputs": [
        {
          "output_type": "execute_result",
          "data": {
            "text/plain": [
              "20"
            ]
          },
          "metadata": {},
          "execution_count": 20
        }
      ]
    },
    {
      "cell_type": "code",
      "source": [
        "def fun(s):\n",
        "  num=s.split(\" \")\n",
        "  for i in num:\n",
        "    print(i,i[0:2])"
      ],
      "metadata": {
        "id": "K3WCIX6_gQmc"
      },
      "execution_count": 23,
      "outputs": []
    },
    {
      "cell_type": "code",
      "source": [
        "s=\" hey hello user\"\n",
        "fun(s)"
      ],
      "metadata": {
        "colab": {
          "base_uri": "https://localhost:8080/"
        },
        "id": "LJ5nj4sdg0vA",
        "outputId": "7f564fdb-5302-4488-a2e3-c5ab9a33106f"
      },
      "execution_count": 26,
      "outputs": [
        {
          "output_type": "stream",
          "name": "stdout",
          "text": [
            " \n",
            "hey he\n",
            "hello he\n",
            "user us\n"
          ]
        }
      ]
    },
    {
      "cell_type": "code",
      "source": [
        "#Same above logic with lambda function\n",
        "\n",
        "a= lambda x:x[0:2]\n",
        "for i in \"hey hello user\".split(\" \"):\n",
        "  print(i,a(i))"
      ],
      "metadata": {
        "colab": {
          "base_uri": "https://localhost:8080/"
        },
        "id": "bVkZD24Tg-xP",
        "outputId": "5f1716dd-6c91-434b-9bab-44eba8df8702"
      },
      "execution_count": 29,
      "outputs": [
        {
          "output_type": "stream",
          "name": "stdout",
          "text": [
            "hey he\n",
            "hello he\n",
            "user us\n"
          ]
        }
      ]
    },
    {
      "cell_type": "code",
      "source": [
        "#to create a nested list if the element of list is even\n",
        "\n",
        "numbers = [2, 5, 7]\n",
        "a = [[i] if i % 2 == 0 else i for i in numbers]\n",
        "print(a)\n"
      ],
      "metadata": {
        "colab": {
          "base_uri": "https://localhost:8080/"
        },
        "id": "6MePHyrghbOm",
        "outputId": "c29843d4-b334-43a6-a5a8-4e5c0c02310d"
      },
      "execution_count": 37,
      "outputs": [
        {
          "output_type": "stream",
          "name": "stdout",
          "text": [
            "[[2], 5, 7]\n"
          ]
        }
      ]
    },
    {
      "cell_type": "code",
      "source": [
        "list = [2, 5, 7]\n",
        "x = [[i] for i in list if i == 2]\n",
        "print(x)"
      ],
      "metadata": {
        "colab": {
          "base_uri": "https://localhost:8080/"
        },
        "id": "idQQyxh9j1S-",
        "outputId": "49931053-c649-4722-bcd3-e311046c35c2"
      },
      "execution_count": 45,
      "outputs": [
        {
          "output_type": "stream",
          "name": "stdout",
          "text": [
            "[[2]]\n"
          ]
        }
      ]
    },
    {
      "cell_type": "code",
      "source": [
        "#First Class Function\n",
        "\n",
        "def fun():\n",
        "  print(\"Tushar\")\n",
        "\n",
        "a=fun # Memory of function is assigned to a\n",
        "\n",
        "print(\"a=>\",a)\n",
        "\n",
        "a()     # First class Function"
      ],
      "metadata": {
        "colab": {
          "base_uri": "https://localhost:8080/"
        },
        "id": "3pd_4vtlk4Lj",
        "outputId": "5351cef4-5953-43ad-a233-47244097080f"
      },
      "execution_count": 50,
      "outputs": [
        {
          "output_type": "stream",
          "name": "stdout",
          "text": [
            "a=> <function fun at 0x785a43108860>\n",
            "Tushar\n"
          ]
        }
      ]
    },
    {
      "cell_type": "code",
      "source": [
        "x = (lambda x: x + 10)(1)  # x will be 11\n",
        "a = {x: x, \"name\": \"Akshat\", \"gender\": \"male\"}  # Map x to itself in the dictionary\n",
        "print(a[x])  # Access the value of key x (which is 11)\n",
        "\n"
      ],
      "metadata": {
        "colab": {
          "base_uri": "https://localhost:8080/"
        },
        "id": "P7wFzeuvpH7t",
        "outputId": "2dcaa301-31ad-475b-cb83-bff2e5beabc5"
      },
      "execution_count": 76,
      "outputs": [
        {
          "output_type": "stream",
          "name": "stdout",
          "text": [
            "11\n"
          ]
        }
      ]
    },
    {
      "cell_type": "code",
      "source": [],
      "metadata": {
        "id": "nLw2IZdOsjUF"
      },
      "execution_count": null,
      "outputs": []
    }
  ]
}