{
  "nbformat": 4,
  "nbformat_minor": 0,
  "metadata": {
    "colab": {
      "provenance": [],
      "authorship_tag": "ABX9TyMc4Ux/3C9nLVzk847/gy/s"
    },
    "kernelspec": {
      "name": "python3",
      "display_name": "Python 3"
    },
    "language_info": {
      "name": "python"
    }
  },
  "cells": [
    {
      "cell_type": "code",
      "execution_count": null,
      "metadata": {
        "id": "ojAqed5yKFQR"
      },
      "outputs": [],
      "source": [
        "'''\n",
        "Onject: Any real time entity having characterstics and behaviour\n",
        "Classes: They are the bluprint or template for Objects\n",
        "Inside Class we define characterstic and behaviour of object\n",
        "'''"
      ]
    },
    {
      "cell_type": "code",
      "source": [
        "#OOPS\n",
        "#[Object Oriented programming system]\n",
        "#Characterstic in variable\n",
        "#Working in function"
      ],
      "metadata": {
        "id": "94k6-KTVLrZB"
      },
      "execution_count": null,
      "outputs": []
    },
    {
      "cell_type": "code",
      "source": [
        "class bike:\n",
        "  color=\"yellow\"\n",
        "  name=\"pulsar\"\n",
        "\n",
        "  def info(self):\n",
        "    print(self.color,\"bike name:\",self.name)"
      ],
      "metadata": {
        "id": "00RE7eF-MV7u"
      },
      "execution_count": 16,
      "outputs": []
    },
    {
      "cell_type": "code",
      "source": [
        "b1=bike()   #b1 is the object\n",
        "print(b1.color)"
      ],
      "metadata": {
        "colab": {
          "base_uri": "https://localhost:8080/"
        },
        "id": "2O_Wq10bMdkH",
        "outputId": "ca181db0-4a8c-4dd6-90f3-69e4c67c0a1c"
      },
      "execution_count": 5,
      "outputs": [
        {
          "output_type": "stream",
          "name": "stdout",
          "text": [
            "yellow\n"
          ]
        }
      ]
    },
    {
      "cell_type": "code",
      "source": [
        "b1=bike()\n",
        "print(b1.name)"
      ],
      "metadata": {
        "colab": {
          "base_uri": "https://localhost:8080/"
        },
        "id": "WLGUHpNDMuWk",
        "outputId": "6686b47a-91c0-421e-d739-cd195e7a0207"
      },
      "execution_count": 10,
      "outputs": [
        {
          "output_type": "stream",
          "name": "stdout",
          "text": [
            "pulsar\n"
          ]
        }
      ]
    },
    {
      "cell_type": "code",
      "source": [
        "b1=bike()\n",
        "b1.color=\"red\"\n",
        "print(b1.color,b1.name)"
      ],
      "metadata": {
        "colab": {
          "base_uri": "https://localhost:8080/"
        },
        "id": "gqoMfg-iNRJM",
        "outputId": "34549666-07f3-48b7-c1a0-b886150b3138"
      },
      "execution_count": 28,
      "outputs": [
        {
          "output_type": "stream",
          "name": "stdout",
          "text": [
            "red pulsar\n"
          ]
        }
      ]
    },
    {
      "cell_type": "code",
      "source": [
        "b2=bike()\n",
        "b2.info()"
      ],
      "metadata": {
        "colab": {
          "base_uri": "https://localhost:8080/"
        },
        "id": "DrX3wRWPPToK",
        "outputId": "5b174f76-2141-4cb5-ef8d-94bf636286e0"
      },
      "execution_count": 26,
      "outputs": [
        {
          "output_type": "stream",
          "name": "stdout",
          "text": [
            "red bike name: pulsar\n"
          ]
        }
      ]
    },
    {
      "cell_type": "code",
      "source": [
        "'''\n",
        "#Constructor is a function\n",
        "which is used to create or initailize memory for a oject\n",
        "'''\n",
        "#self=>Variable that stores the memory adress of cureent object"
      ],
      "metadata": {
        "id": "MHQP1MRdQ5wD"
      },
      "execution_count": null,
      "outputs": []
    },
    {
      "cell_type": "code",
      "source": [
        "class bike:\n",
        "  def __init__(self):\n",
        "    print(\"Calling constructor\",self)"
      ],
      "metadata": {
        "id": "PPJDFBXCRlDz"
      },
      "execution_count": 29,
      "outputs": []
    },
    {
      "cell_type": "code",
      "source": [
        "b1=bike()\n",
        "print(\"B1:\",b1)"
      ],
      "metadata": {
        "colab": {
          "base_uri": "https://localhost:8080/"
        },
        "id": "ZcSF5d6wRzF3",
        "outputId": "5b9368d0-febf-41a2-dc89-e8198c81974a"
      },
      "execution_count": 34,
      "outputs": [
        {
          "output_type": "stream",
          "name": "stdout",
          "text": [
            "Calling constructor\n",
            "B1: <__main__.bike object at 0x7a98a4a6c410>\n"
          ]
        }
      ]
    },
    {
      "cell_type": "code",
      "source": [
        "b2=bike()\n",
        "print(\"B2:\",b2)"
      ],
      "metadata": {
        "colab": {
          "base_uri": "https://localhost:8080/"
        },
        "id": "KkE352IKSZuj",
        "outputId": "f82fdd7e-5fb6-49ef-f7ef-8a47c1e3d50d"
      },
      "execution_count": 36,
      "outputs": [
        {
          "output_type": "stream",
          "name": "stdout",
          "text": [
            "Calling constructor\n",
            "B2: <__main__.bike object at 0x7a98a5194e50>\n"
          ]
        }
      ]
    },
    {
      "cell_type": "code",
      "source": [
        "#constructor are of two types\n",
        "#a=> default\n",
        "#b=> parameterized"
      ],
      "metadata": {
        "id": "A_aAe8WsS5M5"
      },
      "execution_count": null,
      "outputs": []
    },
    {
      "cell_type": "code",
      "source": [
        "class bike:\n",
        "  def __init__(self,a):\n",
        "    print(\"Calling constructor\",self,a)"
      ],
      "metadata": {
        "id": "JSE4bnKaTWBF"
      },
      "execution_count": 37,
      "outputs": []
    },
    {
      "cell_type": "code",
      "source": [
        "b1=bike(\"Red\")"
      ],
      "metadata": {
        "colab": {
          "base_uri": "https://localhost:8080/"
        },
        "id": "eMYvQYV2UFy8",
        "outputId": "c70a1fc8-7c11-40bd-ab83-71e37c2d003f"
      },
      "execution_count": 40,
      "outputs": [
        {
          "output_type": "stream",
          "name": "stdout",
          "text": [
            "Calling constructor <__main__.bike object at 0x7a98a3fa5b50> Red\n"
          ]
        }
      ]
    },
    {
      "cell_type": "code",
      "source": [
        "class bike:\n",
        "  def __init__(self,a):\n",
        "    self.color=a"
      ],
      "metadata": {
        "id": "xIKCCK7zUpL9"
      },
      "execution_count": 42,
      "outputs": []
    },
    {
      "cell_type": "code",
      "source": [
        "b1=bike(\"Green\")\n",
        "b1.color"
      ],
      "metadata": {
        "colab": {
          "base_uri": "https://localhost:8080/",
          "height": 36
        },
        "id": "LBFulwQzU2mq",
        "outputId": "18bae2b6-731c-4a73-9c7c-bf3e2f9caa5a"
      },
      "execution_count": 48,
      "outputs": [
        {
          "output_type": "execute_result",
          "data": {
            "text/plain": [
              "'Green'"
            ],
            "application/vnd.google.colaboratory.intrinsic+json": {
              "type": "string"
            }
          },
          "metadata": {},
          "execution_count": 48
        }
      ]
    },
    {
      "cell_type": "code",
      "source": [
        "class bike:\n",
        "  def __init__(self,a,n):\n",
        "    self.color=a\n",
        "    self.name=n"
      ],
      "metadata": {
        "id": "sLyPNWXEVnJz"
      },
      "execution_count": 49,
      "outputs": []
    },
    {
      "cell_type": "code",
      "source": [
        "b2=bike(\"Green\",\"Yamaha\")\n",
        "b2.color,b2.name"
      ],
      "metadata": {
        "colab": {
          "base_uri": "https://localhost:8080/"
        },
        "id": "6_0snSgxVv_M",
        "outputId": "04c4f2c2-3779-4802-e42b-7bf1a0cbfaa1"
      },
      "execution_count": 52,
      "outputs": [
        {
          "output_type": "execute_result",
          "data": {
            "text/plain": [
              "('Green', 'Yamaha')"
            ]
          },
          "metadata": {},
          "execution_count": 52
        }
      ]
    },
    {
      "cell_type": "code",
      "source": [
        "#Employee Class practice\n",
        "class employee:\n",
        "  name=\"akki\"\n",
        "  id=10\n",
        "  address=\"kota\"\n",
        "  def __init__(self,a,b,c):\n",
        "    self.name=a\n",
        "    self.id=b\n",
        "    self.address=c"
      ],
      "metadata": {
        "id": "BZsFuVlyV9zA"
      },
      "execution_count": 54,
      "outputs": []
    },
    {
      "cell_type": "code",
      "source": [
        "e1=employee(\"Akshat\",102,\"UP\")\n",
        "print(f\"name={e1.name} Id={e1.id} adress={e1.address}\")"
      ],
      "metadata": {
        "colab": {
          "base_uri": "https://localhost:8080/"
        },
        "id": "tU1T1NHvWlNX",
        "outputId": "fdd6e1c6-01ec-4324-cfca-378efb247aa8"
      },
      "execution_count": 58,
      "outputs": [
        {
          "output_type": "stream",
          "name": "stdout",
          "text": [
            "Enter your name Id and Adress\n",
            "name=Akshat Id=102 adress=UP\n"
          ]
        }
      ]
    },
    {
      "cell_type": "code",
      "source": [
        "# Class variables are those variables accessed by class and object name\n",
        "# But can only be modified by class name"
      ],
      "metadata": {
        "id": "eW7AQN6lXrpK"
      },
      "execution_count": 59,
      "outputs": []
    },
    {
      "cell_type": "code",
      "source": [
        "class bike:\n",
        "  company=\"yashraj\"   #Class Variable\n",
        "  def __init__(self,a):\n",
        "    self.color=a\n",
        "\n",
        "b1=bike(\"Green\")\n",
        "print(b1.company)\n",
        "print(bike.company)"
      ],
      "metadata": {
        "colab": {
          "base_uri": "https://localhost:8080/"
        },
        "id": "xkUKS23zYhvj",
        "outputId": "3d4b4b78-9844-4656-c9dd-af10a734ce6e"
      },
      "execution_count": 68,
      "outputs": [
        {
          "output_type": "stream",
          "name": "stdout",
          "text": [
            "yashraj\n",
            "yashraj\n"
          ]
        }
      ]
    },
    {
      "cell_type": "code",
      "source": [
        "#To increase the count whenever an object is created\n",
        "\n",
        "class Unique:\n",
        "    count = 0\n",
        "\n",
        "    def __init__(self):\n",
        "        Unique.count += 1\n",
        "\n",
        "\n",
        "b1 = Unique()\n",
        "b2 = Unique()\n",
        "b3 = Unique()\n",
        "b4 = Unique()\n",
        "\n",
        "print(Unique.count)\n"
      ],
      "metadata": {
        "colab": {
          "base_uri": "https://localhost:8080/"
        },
        "id": "ATZ5gNA3Zpuo",
        "outputId": "3868f7c7-a531-4274-c9d3-0fd3ac48f12b"
      },
      "execution_count": 79,
      "outputs": [
        {
          "output_type": "stream",
          "name": "stdout",
          "text": [
            "4\n"
          ]
        }
      ]
    },
    {
      "cell_type": "code",
      "source": [],
      "metadata": {
        "id": "qQxpUFqBcF3F"
      },
      "execution_count": null,
      "outputs": []
    }
  ]
}