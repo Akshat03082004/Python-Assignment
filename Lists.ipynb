{
  "nbformat": 4,
  "nbformat_minor": 0,
  "metadata": {
    "colab": {
      "provenance": [],
      "authorship_tag": "ABX9TyNDRTPIZNyd2ijKU1DPqR8J",
      "include_colab_link": true
    },
    "kernelspec": {
      "name": "python3",
      "display_name": "Python 3"
    },
    "language_info": {
      "name": "python"
    }
  },
  "cells": [
    {
      "cell_type": "markdown",
      "metadata": {
        "id": "view-in-github",
        "colab_type": "text"
      },
      "source": [
        "<a href=\"https://colab.research.google.com/github/Akshat03082004/Python-Assignment/blob/main/Lists.ipynb\" target=\"_parent\"><img src=\"https://colab.research.google.com/assets/colab-badge.svg\" alt=\"Open In Colab\"/></a>"
      ]
    },
    {
      "cell_type": "code",
      "execution_count": 1,
      "metadata": {
        "colab": {
          "base_uri": "https://localhost:8080/"
        },
        "id": "hpKtTC0W2lD_",
        "outputId": "51a41fed-f3f9-4a51-da6b-68f921889d72"
      },
      "outputs": [
        {
          "output_type": "stream",
          "name": "stdout",
          "text": [
            "10\n",
            "20\n",
            "30\n",
            "40\n"
          ]
        }
      ],
      "source": [
        "#Lists are mutable\n",
        "#append , pop , update using index\n",
        "mylist=[10,20,30,40,\"abc\"]\n",
        "for index in range(0,len(mylist)):\n",
        "  if(type(mylist[index])==int):\n",
        "    print(mylist[index])"
      ]
    },
    {
      "cell_type": "code",
      "source": [
        "#MAXIMUM NUMBER\n",
        "mylist=[10,20,30,40,14]\n",
        "max=mylist[0]\n",
        "\n",
        "for index in range(0,len(mylist)):\n",
        "\n",
        "  print(\"before =>\", mylist[index],max)\n",
        "\n",
        "  if(mylist[index]>max):\n",
        "    max=mylist[index]\n",
        "    print(\"After condition => \",mylist[index],max)"
      ],
      "metadata": {
        "colab": {
          "base_uri": "https://localhost:8080/"
        },
        "id": "KtxXcEdD4j67",
        "outputId": "6036a02d-602a-426e-d76e-6281db4834a2"
      },
      "execution_count": 4,
      "outputs": [
        {
          "output_type": "stream",
          "name": "stdout",
          "text": [
            "before => 10 10\n",
            "before => 20 10\n",
            "After condition =>  20 20\n",
            "before => 30 20\n",
            "After condition =>  30 30\n",
            "before => 40 30\n",
            "After condition =>  40 40\n",
            "before => 14 40\n"
          ]
        }
      ]
    },
    {
      "cell_type": "code",
      "source": [
        "#Second largest\n",
        "x=[10,20,30,40,35]\n",
        "max=x[0]\n",
        "smax=0\n",
        "\n",
        "for index in range(0,len(x)):\n",
        "  if(x[index]>max):\n",
        "    smax=max\n",
        "    max=x[index]\n",
        "\n",
        "  elif(x[index]>smax):\n",
        "    smax=x[index]\n",
        "\n",
        "print(\"values =>\",max,smax)"
      ],
      "metadata": {
        "colab": {
          "base_uri": "https://localhost:8080/"
        },
        "id": "5bEY0fFb6J1h",
        "outputId": "1dc23446-0309-4d52-8a41-1005db06e50b"
      },
      "execution_count": 8,
      "outputs": [
        {
          "output_type": "stream",
          "name": "stdout",
          "text": [
            "values => 40 35\n"
          ]
        }
      ]
    },
    {
      "cell_type": "code",
      "source": [
        "#TOTAL\n",
        "x=[1,2,3,4]\n",
        "total=0\n",
        "for index in range(0,len(x)):\n",
        "  total=total+x[index]\n",
        "print(total)"
      ],
      "metadata": {
        "colab": {
          "base_uri": "https://localhost:8080/"
        },
        "id": "MRU85GXQ75vm",
        "outputId": "b7dbaa0c-bb4d-4d5e-dbde-29ba27a215e2"
      },
      "execution_count": 9,
      "outputs": [
        {
          "output_type": "stream",
          "name": "stdout",
          "text": [
            "10\n"
          ]
        }
      ]
    },
    {
      "cell_type": "code",
      "source": [
        "list=[10,20,30,40]\n",
        "for i in range (0,1):\n",
        "\n",
        "\n",
        "  for j in range (0,len(list)):\n",
        "    print(list[i],list[j])"
      ],
      "metadata": {
        "colab": {
          "base_uri": "https://localhost:8080/"
        },
        "id": "-O3sYoqX8zIC",
        "outputId": "a47688b9-9d60-4c1c-cfb2-338bbbbfd953"
      },
      "execution_count": 27,
      "outputs": [
        {
          "output_type": "stream",
          "name": "stdout",
          "text": [
            "10 10\n",
            "10 20\n",
            "10 30\n",
            "10 40\n"
          ]
        }
      ]
    },
    {
      "cell_type": "code",
      "source": [
        "list=[10,20,30,40]\n",
        "for i in range (0,len(list)):\n",
        "  print(list[i])"
      ],
      "metadata": {
        "colab": {
          "base_uri": "https://localhost:8080/"
        },
        "id": "1hucpSxo-u1U",
        "outputId": "707f164b-e395-4ff0-d6d8-30b07c716d0f"
      },
      "execution_count": 14,
      "outputs": [
        {
          "output_type": "stream",
          "name": "stdout",
          "text": [
            "10\n",
            "20\n",
            "30\n",
            "40\n"
          ]
        }
      ]
    },
    {
      "cell_type": "code",
      "source": [
        "list=[10,20,30,40,35]\n",
        "for i in range(0,1):\n",
        "  for j in range(1,len(list)):\n",
        "    print(list[i],list[j])"
      ],
      "metadata": {
        "colab": {
          "base_uri": "https://localhost:8080/"
        },
        "id": "6lPepQD6_goR",
        "outputId": "17b6b4b7-db14-4ba1-dd8d-8e7b245b0087"
      },
      "execution_count": 32,
      "outputs": [
        {
          "output_type": "stream",
          "name": "stdout",
          "text": [
            "10 20\n",
            "10 30\n",
            "10 40\n",
            "10 35\n"
          ]
        }
      ]
    },
    {
      "cell_type": "code",
      "source": [
        "list=[10,43,21,2,3,5,2,43,]\n",
        "\n",
        "\n",
        "for i in range(0,len(list)):\n",
        "    for j in range(i+1,len(list)):\n",
        "        print(f\"{list[i]}  :  {list[j]}\")"
      ],
      "metadata": {
        "colab": {
          "base_uri": "https://localhost:8080/"
        },
        "id": "j31-IUZxAYsA",
        "outputId": "616d243f-107f-46af-c9ad-17760f8c9db3"
      },
      "execution_count": 37,
      "outputs": [
        {
          "output_type": "stream",
          "name": "stdout",
          "text": [
            "10  :  43\n",
            "10  :  21\n",
            "10  :  2\n",
            "10  :  3\n",
            "10  :  5\n",
            "10  :  2\n",
            "10  :  43\n",
            "43  :  21\n",
            "43  :  2\n",
            "43  :  3\n",
            "43  :  5\n",
            "43  :  2\n",
            "43  :  43\n",
            "21  :  2\n",
            "21  :  3\n",
            "21  :  5\n",
            "21  :  2\n",
            "21  :  43\n",
            "2  :  3\n",
            "2  :  5\n",
            "2  :  2\n",
            "2  :  43\n",
            "3  :  5\n",
            "3  :  2\n",
            "3  :  43\n",
            "5  :  2\n",
            "5  :  43\n",
            "2  :  43\n"
          ]
        }
      ]
    },
    {
      "cell_type": "code",
      "source": [
        "list=[10,20,30,40,35]\n",
        "total=50\n",
        "for i in range(len(list)):\n",
        "  for j in range(i+1,len(list)):\n",
        "    if(list[i]+list[j]==total):\n",
        "      print(list[i],list[j])"
      ],
      "metadata": {
        "colab": {
          "base_uri": "https://localhost:8080/"
        },
        "id": "lT7UWoplBbYC",
        "outputId": "a2b90378-8e77-453e-9c5f-d699343f4f28"
      },
      "execution_count": 39,
      "outputs": [
        {
          "output_type": "stream",
          "name": "stdout",
          "text": [
            "10 40\n",
            "20 30\n"
          ]
        }
      ]
    },
    {
      "cell_type": "code",
      "source": [
        "#Q2 Sum of elements in list\n",
        "x=[10,20,30,40]\n",
        "sum=0\n",
        "for i in range(0,len(x)):\n",
        "  sum+=x[i]\n",
        "print(sum)\n"
      ],
      "metadata": {
        "colab": {
          "base_uri": "https://localhost:8080/"
        },
        "id": "xGOXu-kDD1ie",
        "outputId": "71b651a1-320d-4f07-c939-3338b991d8d7"
      },
      "execution_count": 40,
      "outputs": [
        {
          "output_type": "stream",
          "name": "stdout",
          "text": [
            "100\n"
          ]
        }
      ]
    },
    {
      "cell_type": "code",
      "source": [
        "#Q3 reversing the list\n",
        "l1=[1,2,3,4,5]\n",
        "l2=[]\n",
        "for i in range(len(l1)-1,-1,-1):\n",
        "  l2.append(l1[i])\n",
        "print(\"Before=>\",l1)\n",
        "print(\"After=>\", l2)"
      ],
      "metadata": {
        "colab": {
          "base_uri": "https://localhost:8080/"
        },
        "id": "L8coEkmpEQ7S",
        "outputId": "62416a9c-b42b-4e36-9c12-15b066ad502f"
      },
      "execution_count": 46,
      "outputs": [
        {
          "output_type": "stream",
          "name": "stdout",
          "text": [
            "Before=> [1, 2, 3, 4, 5]\n",
            "After=> [5, 4, 3, 2, 1]\n"
          ]
        }
      ]
    },
    {
      "cell_type": "code",
      "source": [
        "#Q4 Sorting in Asscending Order\n",
        "list=[10,40,20,30,21]\n",
        "for i in range(0,len(list)):\n",
        "  for j in range(0,len(list)-i-1):\n",
        "    if(list[j]>list[j+1]):\n",
        "      list[j],list[j+1]=list[j+1],list[j]\n",
        "print(list)"
      ],
      "metadata": {
        "colab": {
          "base_uri": "https://localhost:8080/"
        },
        "id": "hOYguKWsFQ1m",
        "outputId": "11d27d35-48dd-43ef-a2ad-adfb7fd2b033"
      },
      "execution_count": 50,
      "outputs": [
        {
          "output_type": "stream",
          "name": "stdout",
          "text": [
            "[10, 20, 21, 30, 40]\n"
          ]
        }
      ]
    },
    {
      "cell_type": "code",
      "source": [
        "#Q5 Removing duplicate\n",
        "x = [1, 2, 2, 3, 4, 4, 5]\n",
        "\n",
        "\n",
        "y = []\n",
        "\n",
        "\n",
        "for item in x:\n",
        "    if item not in y:\n",
        "       y.append(item)\n",
        "\n",
        "# Print the result\n",
        "print(\"Original list:\", x)\n",
        "print(\"New List:\", y)"
      ],
      "metadata": {
        "colab": {
          "base_uri": "https://localhost:8080/"
        },
        "id": "p8bHJr03Gl3C",
        "outputId": "0fac8c7d-2461-4eaf-9408-afac63728e17"
      },
      "execution_count": 57,
      "outputs": [
        {
          "output_type": "stream",
          "name": "stdout",
          "text": [
            "Original list: [1, 2, 2, 3, 4, 4, 5]\n",
            "New List: [1, 2, 3, 4, 5]\n"
          ]
        }
      ]
    }
  ]
}