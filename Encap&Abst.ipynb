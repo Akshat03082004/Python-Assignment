{
  "nbformat": 4,
  "nbformat_minor": 0,
  "metadata": {
    "colab": {
      "provenance": [],
      "authorship_tag": "ABX9TyMX8OyVKwD8aMgsPZWX9GZ4"
    },
    "kernelspec": {
      "name": "python3",
      "display_name": "Python 3"
    },
    "language_info": {
      "name": "python"
    }
  },
  "cells": [
    {
      "cell_type": "code",
      "execution_count": 40,
      "metadata": {
        "id": "Q16QM63nnd1r"
      },
      "outputs": [],
      "source": [
        "#Encapsulation\n",
        "\n",
        "#Public Variable:=> Acess anywhere\n",
        "#Private variable:-> inside the class\n",
        "#Protected -> Can be accessed only in main or subclass\n",
        "#Default -> pacakge protected"
      ]
    },
    {
      "cell_type": "code",
      "source": [
        "class A:\n",
        "  _amount=1000\n",
        "  __balance=5000\n",
        "\n",
        "a1=A()\n",
        "a1._A__balance    #Private can only be accessed using _Classname__variable\n"
      ],
      "metadata": {
        "colab": {
          "base_uri": "https://localhost:8080/"
        },
        "id": "czVK0dkGrOZF",
        "outputId": "1c31620a-0ae9-475b-e372-9245055178ad"
      },
      "execution_count": 10,
      "outputs": [
        {
          "output_type": "execute_result",
          "data": {
            "text/plain": [
              "5000"
            ]
          },
          "metadata": {},
          "execution_count": 10
        }
      ]
    },
    {
      "cell_type": "code",
      "source": [
        "#   ABSTRACTION   #\n",
        "#Process to hide the unwanted details\n",
        "#Works as blue print for all classes\n",
        "#Abstraction achieve-> abstract class\n",
        "#abstract class -> abstract method\n",
        "#Abstract method-> not implemented , Its implemented in child class"
      ],
      "metadata": {
        "id": "vW8A6Sj-tACz"
      },
      "execution_count": 11,
      "outputs": []
    },
    {
      "cell_type": "code",
      "source": [
        "class RBI:\n",
        "  def info(self):\n",
        "    pass      #Abstraction\n",
        "\n",
        "class SBI(RBI):\n",
        "  def info(self):\n",
        "    print(\"Intrest rate 10% from SBI\")"
      ],
      "metadata": {
        "id": "mScVnDAnuRtb"
      },
      "execution_count": 31,
      "outputs": []
    },
    {
      "cell_type": "code",
      "source": [
        "s1=SBI()\n",
        "s1.info()\n"
      ],
      "metadata": {
        "colab": {
          "base_uri": "https://localhost:8080/"
        },
        "id": "1Rg3yg0sueSD",
        "outputId": "ee667ede-b816-4b09-a038-3d254b7f19b5"
      },
      "execution_count": 32,
      "outputs": [
        {
          "output_type": "stream",
          "name": "stdout",
          "text": [
            "Intrest rate 10% from SBI\n"
          ]
        }
      ]
    },
    {
      "cell_type": "code",
      "source": [
        "from abc import ABC, abstractmethod\n",
        "class RBI(ABC):   #Abstract class\n",
        "\n",
        "  @abstractmethod\n",
        "  def info(self):  #abstract method\n",
        "    pass      #Abstraction\n",
        "\n",
        "class SBI(RBI):\n",
        "  def info(self):  #implementing abstract method from the parent class\n",
        "    print(\"Intrest rate 10% from SBI\")"
      ],
      "metadata": {
        "id": "nElArtsuyPJh"
      },
      "execution_count": 38,
      "outputs": []
    },
    {
      "cell_type": "code",
      "source": [
        "s1=SBI()\n",
        "s1.info()\n"
      ],
      "metadata": {
        "colab": {
          "base_uri": "https://localhost:8080/"
        },
        "id": "O_Ig5Vpjyuwb",
        "outputId": "8c227c5a-0dad-47c0-d7fd-f41c494fc413"
      },
      "execution_count": 39,
      "outputs": [
        {
          "output_type": "stream",
          "name": "stdout",
          "text": [
            "Intrest rate 10% from SBI\n"
          ]
        }
      ]
    },
    {
      "cell_type": "code",
      "source": [
        "class Private:\n",
        "    def info(self):\n",
        "        self.__amount = 10000\n",
        "\n",
        "    def get_amount(self):\n",
        "        return self.__amount\n",
        "\n",
        "g1 = Private()\n",
        "g1.info()\n",
        "print(g1.get_amount())\n"
      ],
      "metadata": {
        "colab": {
          "base_uri": "https://localhost:8080/"
        },
        "id": "7-aYzbKl0tE-",
        "outputId": "b5b62059-ad77-4b96-fa6c-924547dbcd35"
      },
      "execution_count": 46,
      "outputs": [
        {
          "output_type": "stream",
          "name": "stdout",
          "text": [
            "10000\n"
          ]
        }
      ]
    }
  ]
}