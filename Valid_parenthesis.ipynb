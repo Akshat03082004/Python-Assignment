{
  "nbformat": 4,
  "nbformat_minor": 0,
  "metadata": {
    "colab": {
      "provenance": [],
      "authorship_tag": "ABX9TyOzdflprCUAoVP/V6Y0I0uK"
    },
    "kernelspec": {
      "name": "python3",
      "display_name": "Python 3"
    },
    "language_info": {
      "name": "python"
    }
  },
  "cells": [
    {
      "cell_type": "code",
      "source": [
        "#VALID PARENTHESIS\n",
        "stack = []\n",
        "s = \"()\"\n",
        "\n",
        "for char in s:\n",
        "    if char in \"({[\":\n",
        "        stack.append(char)\n",
        "    elif char == \")\" and  stack.pop() != \"(\":\n",
        "        print(\"NO\")\n",
        "        break\n",
        "    elif char == \"}\" and stack.pop() != \"{\":\n",
        "        print(\"NO\")\n",
        "        break\n",
        "    elif char == \"]\" and stack.pop() != \"[\":\n",
        "        print(\"NO\")\n",
        "        break\n",
        "else:\n",
        "    if not stack:\n",
        "        print(\"YES\")\n",
        "    else:\n",
        "        print(\"NO\")\n"
      ],
      "metadata": {
        "colab": {
          "base_uri": "https://localhost:8080/"
        },
        "id": "6aZtl02o4wBg",
        "outputId": "9cb50321-9698-4621-8f97-0b23f5581f46"
      },
      "execution_count": 2,
      "outputs": [
        {
          "output_type": "stream",
          "name": "stdout",
          "text": [
            "YES\n"
          ]
        }
      ]
    }
  ]
}