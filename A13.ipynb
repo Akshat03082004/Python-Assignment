{
  "nbformat": 4,
  "nbformat_minor": 0,
  "metadata": {
    "colab": {
      "provenance": [],
      "authorship_tag": "ABX9TyPqonf+JUySnEIS0vy+oFBw"
    },
    "kernelspec": {
      "name": "python3",
      "display_name": "Python 3"
    },
    "language_info": {
      "name": "python"
    }
  },
  "cells": [
    {
      "cell_type": "code",
      "execution_count": null,
      "metadata": {
        "id": "tRXmJ8_PQtcY",
        "colab": {
          "base_uri": "https://localhost:8080/"
        },
        "outputId": "f41a4149-9a2e-47a0-82c2-464601b39e81"
      },
      "outputs": [
        {
          "output_type": "stream",
          "name": "stdout",
          "text": [
            "factor is : 1\n",
            "factor is : 2\n",
            "factor is : 5\n",
            "factor is : 10\n",
            "no of factors are 4\n"
          ]
        }
      ],
      "source": [
        "num=10\n",
        "count=0\n",
        "for i in range(1,11):\n",
        "  if(num%i==0):\n",
        "    print(\"factor is :\",i)\n",
        "    count+=1\n",
        "print(\"no of factors are\",count)\n"
      ]
    },
    {
      "cell_type": "code",
      "source": [
        "#Prime number\n",
        "num=8\n",
        "count=0\n",
        "print(\"number is:\",num)\n",
        "for i in range(1,num+1):\n",
        "  if(num%i==0):\n",
        "    count+=1\n",
        "    print(\"factors are:\",i)\n",
        "if(count>2):\n",
        "  print(\"Hence not prime\")\n",
        "else:\n",
        "  print(\"hence Prime\")"
      ],
      "metadata": {
        "colab": {
          "base_uri": "https://localhost:8080/"
        },
        "id": "u929i1awUHun",
        "outputId": "fefc49e0-dd80-4b5b-8b49-2f99ab587560"
      },
      "execution_count": null,
      "outputs": [
        {
          "output_type": "stream",
          "name": "stdout",
          "text": [
            "number is: 8\n",
            "factors are: 1\n",
            "factors are: 2\n",
            "factors are: 4\n",
            "factors are: 8\n",
            "Hence not prime\n"
          ]
        }
      ]
    },
    {
      "cell_type": "code",
      "source": [
        "for i in range(1,4):\n",
        "  if(i==3):\n",
        "    break\n",
        "  print(\"loop\",i)\n",
        "print(\"Akshat\")"
      ],
      "metadata": {
        "colab": {
          "base_uri": "https://localhost:8080/"
        },
        "id": "kbrdyk6cWO4D",
        "outputId": "6fe7d734-df0c-49a5-957c-756c15c5579b"
      },
      "execution_count": null,
      "outputs": [
        {
          "output_type": "stream",
          "name": "stdout",
          "text": [
            "loop 1\n",
            "loop 2\n",
            "Akshat\n"
          ]
        }
      ]
    },
    {
      "cell_type": "code",
      "source": [
        "num=9\n",
        "for i  in range(2,num):\n",
        "  if(num%i==0):\n",
        "    print(\"Not a prime\", num)\n",
        "    break\n",
        "else:\n",
        "  print(\"prime\",num)"
      ],
      "metadata": {
        "colab": {
          "base_uri": "https://localhost:8080/"
        },
        "id": "nk3vQA2zYFYX",
        "outputId": "66daaee4-86df-40f2-c932-b483bed78583"
      },
      "execution_count": null,
      "outputs": [
        {
          "output_type": "stream",
          "name": "stdout",
          "text": [
            "Not a prime 9\n"
          ]
        }
      ]
    },
    {
      "cell_type": "code",
      "source": [
        "num=7\n",
        "a=0       #indicator variable\n",
        "for i in range(2,num):\n",
        "  if(num%i==0):\n",
        "    a=1\n",
        "    break\n",
        "if(a==1):\n",
        "  print(\"not prime\",num)\n",
        "else:\n",
        "  print(\"Prime\")"
      ],
      "metadata": {
        "colab": {
          "base_uri": "https://localhost:8080/"
        },
        "id": "DqsUSiGDaR52",
        "outputId": "87c5d5fe-fff4-4dd3-f23e-2c6b59f281da"
      },
      "execution_count": null,
      "outputs": [
        {
          "output_type": "stream",
          "name": "stdout",
          "text": [
            "Prime\n"
          ]
        }
      ]
    },
    {
      "cell_type": "code",
      "source": [
        "# WHILE LOOP (Number of iterations are not specified)\n"
      ],
      "metadata": {
        "id": "_GnJHxmGcpj-"
      },
      "execution_count": null,
      "outputs": []
    },
    {
      "cell_type": "code",
      "source": [
        "i=3\n",
        "while(i<6):\n",
        "  print(\"hey \",i)\n",
        "  i+=1"
      ],
      "metadata": {
        "colab": {
          "base_uri": "https://localhost:8080/"
        },
        "id": "55L2591rZkWj",
        "outputId": "5cb46446-ee59-45f6-a9f0-466871622407"
      },
      "execution_count": null,
      "outputs": [
        {
          "output_type": "stream",
          "name": "stdout",
          "text": [
            "hey  3\n",
            "hey  4\n",
            "hey  5\n"
          ]
        }
      ]
    },
    {
      "cell_type": "code",
      "source": [
        "i=1\n",
        "total=0\n",
        "while(i<101):\n",
        "  total=total+i\n",
        "  i+=1\n",
        "print(total)"
      ],
      "metadata": {
        "colab": {
          "base_uri": "https://localhost:8080/"
        },
        "id": "DFWRmYSBbBKo",
        "outputId": "e98bdea3-1f12-4bf7-c301-3a086f0c201c"
      },
      "execution_count": null,
      "outputs": [
        {
          "output_type": "stream",
          "name": "stdout",
          "text": [
            "5050\n"
          ]
        }
      ]
    },
    {
      "cell_type": "code",
      "source": [
        "i=20\n",
        "while(i<41):\n",
        "  if(i%3==0):\n",
        "    print(i)\n",
        "  i+=1"
      ],
      "metadata": {
        "colab": {
          "base_uri": "https://localhost:8080/"
        },
        "id": "4K-AaFr6cSex",
        "outputId": "6c3dae9a-3eaa-476e-cea9-37e320593730"
      },
      "execution_count": null,
      "outputs": [
        {
          "output_type": "stream",
          "name": "stdout",
          "text": [
            "21\n",
            "24\n",
            "27\n",
            "30\n",
            "33\n",
            "36\n",
            "39\n"
          ]
        }
      ]
    },
    {
      "cell_type": "code",
      "source": [
        "i=98\n",
        "count=0\n",
        "while(i>=58):\n",
        "\n",
        "  i-=1\n",
        "  count+=1\n",
        "print(count)"
      ],
      "metadata": {
        "colab": {
          "base_uri": "https://localhost:8080/"
        },
        "id": "4598mj0CdZl0",
        "outputId": "f0c7e49a-e182-4acf-db01-34a0eefe1e54"
      },
      "execution_count": null,
      "outputs": [
        {
          "output_type": "stream",
          "name": "stdout",
          "text": [
            "41\n"
          ]
        }
      ]
    },
    {
      "cell_type": "code",
      "source": [
        "num=169\n",
        "count=0\n",
        "while(num>0):\n",
        "  rem1=num%10\n",
        "  num=num//10\n",
        "  count+=1\n",
        "\n",
        "  print(rem1,num)\n",
        "print(\"count of digits\",count)"
      ],
      "metadata": {
        "colab": {
          "base_uri": "https://localhost:8080/"
        },
        "id": "6m48KNEJeArF",
        "outputId": "982ab162-2f0e-4a51-e0e1-6960164a4213"
      },
      "execution_count": null,
      "outputs": [
        {
          "output_type": "stream",
          "name": "stdout",
          "text": [
            "9 16\n",
            "6 1\n",
            "1 0\n",
            "count of digits 3\n"
          ]
        }
      ]
    },
    {
      "cell_type": "code",
      "source": [
        "num=123\n",
        "sum=0\n",
        "while(num>0):\n",
        "  rem1=num%10\n",
        "  num=num//10\n",
        "  sum=sum+rem1\n",
        "print(sum)"
      ],
      "metadata": {
        "colab": {
          "base_uri": "https://localhost:8080/"
        },
        "id": "VcA1tApejGGQ",
        "outputId": "a8015e0f-398e-4c56-b901-ba91c29a7f0b"
      },
      "execution_count": null,
      "outputs": [
        {
          "output_type": "stream",
          "name": "stdout",
          "text": [
            "6\n"
          ]
        }
      ]
    },
    {
      "cell_type": "code",
      "source": [
        "#ARMSTRONG\n",
        "num=153\n",
        "num1=num\n",
        "total=0\n",
        "\n",
        "while(num>0):\n",
        "  rem=num%10\n",
        "  num=num//10\n",
        "  print(rem,rem**3)\n",
        "  total=total+(rem**3)\n",
        "print(total)\n",
        "\n",
        "print()\n",
        "\n",
        "if(total==num1):\n",
        "  print(\"ARMSTRONG\")\n",
        "else:\n",
        "  print(\"NOT ARMSTRONG\")"
      ],
      "metadata": {
        "colab": {
          "base_uri": "https://localhost:8080/"
        },
        "id": "ivj0tZ59jtr1",
        "outputId": "a3df7a5f-323e-4044-beac-a6a11d2b2157"
      },
      "execution_count": null,
      "outputs": [
        {
          "output_type": "stream",
          "name": "stdout",
          "text": [
            "3 27\n",
            "5 125\n",
            "1 1\n",
            "153\n",
            "\n",
            "ARMSTRONG\n"
          ]
        }
      ]
    },
    {
      "cell_type": "code",
      "source": [
        "x=256\n",
        "y=256\n",
        "\n",
        "print(id(x), id(y))\n",
        "\n",
        "#data value from zero to 256 adress are same\n"
      ],
      "metadata": {
        "colab": {
          "base_uri": "https://localhost:8080/"
        },
        "id": "CfJrl_m8qeW-",
        "outputId": "206f912d-e358-4ed3-ceb5-25c5fc1087ef"
      },
      "execution_count": null,
      "outputs": [
        {
          "output_type": "stream",
          "name": "stdout",
          "text": [
            "10759016 10759016\n"
          ]
        }
      ]
    },
    {
      "cell_type": "code",
      "source": [
        "x=10\n",
        "y=x\n",
        "print(id(x), id(y))"
      ],
      "metadata": {
        "colab": {
          "base_uri": "https://localhost:8080/"
        },
        "id": "RiFUUlrRrMy-",
        "outputId": "f050fa35-e0f6-42cb-b542-5917628f4a82"
      },
      "execution_count": null,
      "outputs": [
        {
          "output_type": "stream",
          "name": "stdout",
          "text": [
            "10751144 10751144\n"
          ]
        }
      ]
    },
    {
      "cell_type": "code",
      "source": [
        "#PALINDROME NUMBER OR STRING\n",
        "s=\"NAMAN\"\n",
        "i=0\n",
        "end=len(s)-1\n",
        "a=0\n",
        "while(i<end):\n",
        "\n",
        "  if(s[i]!= s[end]):\n",
        "    a=1\n",
        "    break\n",
        "  i+=1\n",
        "  end-=1\n",
        "\n",
        "if(a==1):\n",
        "  print(\"Not a palandrome\",s)\n",
        "else:\n",
        "  print(\"A palandrome\",s)\n",
        "\n"
      ],
      "metadata": {
        "colab": {
          "base_uri": "https://localhost:8080/"
        },
        "id": "VL19uE1qozCH",
        "outputId": "6a085a23-1860-4b1b-f24b-1c0c8ae1afb9"
      },
      "execution_count": null,
      "outputs": [
        {
          "output_type": "stream",
          "name": "stdout",
          "text": [
            "A palandrome NAMAN\n"
          ]
        }
      ]
    },
    {
      "cell_type": "code",
      "source": [
        "#SLICING & INDEXING\n",
        "city=\"JAIPUR\"\n",
        "city[-6]\n",
        "city[0:4]"
      ],
      "metadata": {
        "colab": {
          "base_uri": "https://localhost:8080/",
          "height": 36
        },
        "id": "g11xAy57y9OT",
        "outputId": "62c17316-9667-4479-96ce-fbbb2b95e263"
      },
      "execution_count": null,
      "outputs": [
        {
          "output_type": "execute_result",
          "data": {
            "text/plain": [
              "'JAIP'"
            ],
            "application/vnd.google.colaboratory.intrinsic+json": {
              "type": "string"
            }
          },
          "metadata": {},
          "execution_count": 31
        }
      ]
    },
    {
      "cell_type": "code",
      "source": [
        "city=\"JAIPUR\"\n",
        "city[0:3]"
      ],
      "metadata": {
        "colab": {
          "base_uri": "https://localhost:8080/",
          "height": 36
        },
        "id": "Mrh7jyCr2R1u",
        "outputId": "cc739724-6c95-4af0-c998-4a91dc846c8d"
      },
      "execution_count": null,
      "outputs": [
        {
          "output_type": "execute_result",
          "data": {
            "text/plain": [
              "'JAI'"
            ],
            "application/vnd.google.colaboratory.intrinsic+json": {
              "type": "string"
            }
          },
          "metadata": {},
          "execution_count": 32
        }
      ]
    },
    {
      "cell_type": "code",
      "source": [
        "city=\"JAIPUR\"\n",
        "city[2:6:2]"
      ],
      "metadata": {
        "colab": {
          "base_uri": "https://localhost:8080/",
          "height": 36
        },
        "id": "w94dNZ9i2Yad",
        "outputId": "ebad74fd-1c10-4dca-ecf2-3555d62a0af3"
      },
      "execution_count": null,
      "outputs": [
        {
          "output_type": "execute_result",
          "data": {
            "text/plain": [
              "'IU'"
            ],
            "application/vnd.google.colaboratory.intrinsic+json": {
              "type": "string"
            }
          },
          "metadata": {},
          "execution_count": 35
        }
      ]
    },
    {
      "cell_type": "code",
      "source": [
        "city=\"JAIPUR\"\n",
        "city[-1:-3:-1]"
      ],
      "metadata": {
        "id": "_HHd5hpA5DCy",
        "outputId": "c388f6f9-2c18-415c-d0a7-b0c062f03c1e",
        "colab": {
          "base_uri": "https://localhost:8080/",
          "height": 36
        }
      },
      "execution_count": null,
      "outputs": [
        {
          "output_type": "execute_result",
          "data": {
            "text/plain": [
              "'RU'"
            ],
            "application/vnd.google.colaboratory.intrinsic+json": {
              "type": "string"
            }
          },
          "metadata": {},
          "execution_count": 37
        }
      ]
    },
    {
      "cell_type": "code",
      "source": [
        "# NESTED FOR LOOP\n"
      ],
      "metadata": {
        "id": "XFl01Bc9x2nd"
      },
      "execution_count": null,
      "outputs": []
    },
    {
      "cell_type": "code",
      "source": [
        "for i in range(1,5):\n",
        "  print(\"--Student\",i)\n",
        "\n",
        "\n",
        "\n",
        "  for j in range(1,5):\n",
        "    print(\"--Subject\",j)\n",
        "\n",
        "  print()"
      ],
      "metadata": {
        "colab": {
          "base_uri": "https://localhost:8080/"
        },
        "id": "TLzltcK7yFdl",
        "outputId": "393dd3ec-7262-4e7e-f0c8-d1c1e879030a"
      },
      "execution_count": null,
      "outputs": [
        {
          "output_type": "stream",
          "name": "stdout",
          "text": [
            "--Student 1\n",
            "--Subject 1\n",
            "--Subject 2\n",
            "--Subject 3\n",
            "--Subject 4\n",
            "\n",
            "--Student 2\n",
            "--Subject 1\n",
            "--Subject 2\n",
            "--Subject 3\n",
            "--Subject 4\n",
            "\n",
            "--Student 3\n",
            "--Subject 1\n",
            "--Subject 2\n",
            "--Subject 3\n",
            "--Subject 4\n",
            "\n",
            "--Student 4\n",
            "--Subject 1\n",
            "--Subject 2\n",
            "--Subject 3\n",
            "--Subject 4\n",
            "\n"
          ]
        }
      ]
    },
    {
      "cell_type": "code",
      "source": [
        "for i in range(4,1,-1):\n",
        "  print(\"--Student\",i)\n",
        "\n",
        "\n",
        "\n",
        "  for j in range(1,5):\n",
        "    print(\"--Subject\",j)\n",
        "  print()"
      ],
      "metadata": {
        "colab": {
          "base_uri": "https://localhost:8080/"
        },
        "id": "hq_vPkcczRq7",
        "outputId": "68a38696-bc98-4144-b542-25259ef760fa"
      },
      "execution_count": null,
      "outputs": [
        {
          "output_type": "stream",
          "name": "stdout",
          "text": [
            "--Student 4\n",
            "--Subject 1\n",
            "--Subject 2\n",
            "--Subject 3\n",
            "--Subject 4\n",
            "\n",
            "--Student 3\n",
            "--Subject 1\n",
            "--Subject 2\n",
            "--Subject 3\n",
            "--Subject 4\n",
            "\n",
            "--Student 2\n",
            "--Subject 1\n",
            "--Subject 2\n",
            "--Subject 3\n",
            "--Subject 4\n",
            "\n"
          ]
        }
      ]
    },
    {
      "cell_type": "code",
      "source": [
        "for i in range(1,5):\n",
        "  print(\"--Student\",i)\n",
        "\n",
        "\n",
        "\n",
        "  for j in range(1,i+1): #to print sub equal to student number 1 for 1, 2 for 2\n",
        "    print(\"Subject\",j)\n",
        "  print()"
      ],
      "metadata": {
        "colab": {
          "base_uri": "https://localhost:8080/"
        },
        "id": "OuhzqoYUz69x",
        "outputId": "5f482e4e-cc8c-4fed-fc98-a2d67fc66076"
      },
      "execution_count": null,
      "outputs": [
        {
          "output_type": "stream",
          "name": "stdout",
          "text": [
            "--Student 1\n",
            "Subject 1\n",
            "\n",
            "--Student 2\n",
            "Subject 1\n",
            "Subject 2\n",
            "\n",
            "--Student 3\n",
            "Subject 1\n",
            "Subject 2\n",
            "Subject 3\n",
            "\n",
            "--Student 4\n",
            "Subject 1\n",
            "Subject 2\n",
            "Subject 3\n",
            "Subject 4\n",
            "\n"
          ]
        }
      ]
    },
    {
      "cell_type": "code",
      "source": [
        "for i in range(1,5):\n",
        "  print(\"--Student\",i)\n",
        "\n",
        "\n",
        "\n",
        "  for j in range(i,5):\n",
        "    print(\"--Subject\",j)\n",
        "  print()"
      ],
      "metadata": {
        "colab": {
          "base_uri": "https://localhost:8080/"
        },
        "id": "AIUFNW0T0_vP",
        "outputId": "b29db4f2-428e-4bad-cc7f-0b7f8eebc596"
      },
      "execution_count": null,
      "outputs": [
        {
          "output_type": "stream",
          "name": "stdout",
          "text": [
            "--Student 1\n",
            "--Subject 1\n",
            "--Subject 2\n",
            "--Subject 3\n",
            "--Subject 4\n",
            "\n",
            "--Student 2\n",
            "--Subject 2\n",
            "--Subject 3\n",
            "--Subject 4\n",
            "\n",
            "--Student 3\n",
            "--Subject 3\n",
            "--Subject 4\n",
            "\n",
            "--Student 4\n",
            "--Subject 4\n",
            "\n"
          ]
        }
      ]
    },
    {
      "cell_type": "code",
      "source": [
        "for i in range(1,5):\n",
        "  print(\"--Student\",i)\n",
        "\n",
        "\n",
        "\n",
        "  for j in range(1,5-i +1):\n",
        "    print(\"--Subject\",j)\n",
        "  print()"
      ],
      "metadata": {
        "colab": {
          "base_uri": "https://localhost:8080/"
        },
        "id": "w6uyK67u1wmz",
        "outputId": "98779401-ca33-4024-c646-f19110c4d7fd"
      },
      "execution_count": null,
      "outputs": [
        {
          "output_type": "stream",
          "name": "stdout",
          "text": [
            "--Student 1\n",
            "--Subject 1\n",
            "--Subject 2\n",
            "--Subject 3\n",
            "--Subject 4\n",
            "\n",
            "--Student 2\n",
            "--Subject 1\n",
            "--Subject 2\n",
            "--Subject 3\n",
            "\n",
            "--Student 3\n",
            "--Subject 1\n",
            "--Subject 2\n",
            "\n",
            "--Student 4\n",
            "--Subject 1\n",
            "\n"
          ]
        }
      ]
    },
    {
      "cell_type": "code",
      "source": [
        "for i in range(1,5):\n",
        "  print(\"--Student\",i)\n",
        "\n",
        "\n",
        "\n",
        "  for j in range(1,5):\n",
        "    print(\"--Subject\",j)\n",
        "  print()\n",
        "\n",
        "  print(\"Tea Break\")\n",
        "  print()"
      ],
      "metadata": {
        "colab": {
          "base_uri": "https://localhost:8080/"
        },
        "id": "ILrfZyGJ3PBF",
        "outputId": "3c9840a8-220d-4a0d-cbd1-459d3ec2a9d9"
      },
      "execution_count": null,
      "outputs": [
        {
          "output_type": "stream",
          "name": "stdout",
          "text": [
            "--Student 1\n",
            "--Subject 1\n",
            "--Subject 2\n",
            "--Subject 3\n",
            "--Subject 4\n",
            "\n",
            "Tea Break\n",
            "\n",
            "--Student 2\n",
            "--Subject 1\n",
            "--Subject 2\n",
            "--Subject 3\n",
            "--Subject 4\n",
            "\n",
            "Tea Break\n",
            "\n",
            "--Student 3\n",
            "--Subject 1\n",
            "--Subject 2\n",
            "--Subject 3\n",
            "--Subject 4\n",
            "\n",
            "Tea Break\n",
            "\n",
            "--Student 4\n",
            "--Subject 1\n",
            "--Subject 2\n",
            "--Subject 3\n",
            "--Subject 4\n",
            "\n",
            "Tea Break\n",
            "\n"
          ]
        }
      ]
    },
    {
      "cell_type": "code",
      "source": [
        "for i in range(1,5):\n",
        "  print(\"--Student\",i)\n",
        "\n",
        "\n",
        "\n",
        "  for j in range(1,5-i+1):\n",
        "    print(\"--Subject\",j,end=\" \")\n",
        "  print()"
      ],
      "metadata": {
        "colab": {
          "base_uri": "https://localhost:8080/"
        },
        "id": "PmIU-0Iz4AKd",
        "outputId": "ea30eee4-faf3-45af-ab62-5e0b8cc635cc"
      },
      "execution_count": null,
      "outputs": [
        {
          "output_type": "stream",
          "name": "stdout",
          "text": [
            "--Student 1\n",
            "--Subject 1 --Subject 2 --Subject 3 --Subject 4 \n",
            "--Student 2\n",
            "--Subject 1 --Subject 2 --Subject 3 \n",
            "--Student 3\n",
            "--Subject 1 --Subject 2 \n",
            "--Student 4\n",
            "--Subject 1 \n"
          ]
        }
      ]
    },
    {
      "cell_type": "code",
      "source": [
        "for i in range(1,5):\n",
        "  for j in range(1,5):\n",
        "    print(\"*\",end=\" \")\n",
        "  print(\"\")"
      ],
      "metadata": {
        "colab": {
          "base_uri": "https://localhost:8080/"
        },
        "id": "m05Rgj075wFe",
        "outputId": "3ca6780b-f897-45a4-9b73-c18ca22112ab"
      },
      "execution_count": null,
      "outputs": [
        {
          "output_type": "stream",
          "name": "stdout",
          "text": [
            "* * * * \n",
            "* * * * \n",
            "* * * * \n",
            "* * * * \n"
          ]
        }
      ]
    },
    {
      "cell_type": "code",
      "source": [
        "for i in range(1,5):\n",
        "  for j in range(1,5):\n",
        "    print(i,end=\" \")\n",
        "  i+=1\n",
        "  print()"
      ],
      "metadata": {
        "colab": {
          "base_uri": "https://localhost:8080/"
        },
        "id": "DWGlx2t16MBn",
        "outputId": "c0e1393d-807d-4c33-db80-a8ed526168be"
      },
      "execution_count": null,
      "outputs": [
        {
          "output_type": "stream",
          "name": "stdout",
          "text": [
            "1 1 1 1 \n",
            "2 2 2 2 \n",
            "3 3 3 3 \n",
            "4 4 4 4 \n"
          ]
        }
      ]
    },
    {
      "cell_type": "code",
      "source": [
        "for i in range(1,5):\n",
        "  for j in range(1,5):\n",
        "    print(j,end=\" \")\n",
        "    j+=1\n",
        "  print()"
      ],
      "metadata": {
        "colab": {
          "base_uri": "https://localhost:8080/"
        },
        "id": "oNdL2vXP6hrv",
        "outputId": "f767125c-e8d5-4bcd-894c-012939c32604"
      },
      "execution_count": null,
      "outputs": [
        {
          "output_type": "stream",
          "name": "stdout",
          "text": [
            "1 2 3 4 \n",
            "1 2 3 4 \n",
            "1 2 3 4 \n",
            "1 2 3 4 \n"
          ]
        }
      ]
    },
    {
      "cell_type": "code",
      "source": [
        "for i in range(1,5):\n",
        "  for j in range(4,0,-1):\n",
        "    print(j,end=\" \")\n",
        "    j-=1\n",
        "  print()"
      ],
      "metadata": {
        "colab": {
          "base_uri": "https://localhost:8080/"
        },
        "id": "poNReMFV6t0T",
        "outputId": "7bdd69d1-2146-4ec0-8743-1fd30a0c790b"
      },
      "execution_count": null,
      "outputs": [
        {
          "output_type": "stream",
          "name": "stdout",
          "text": [
            "4 3 2 1 \n",
            "4 3 2 1 \n",
            "4 3 2 1 \n",
            "4 3 2 1 \n"
          ]
        }
      ]
    },
    {
      "cell_type": "code",
      "source": [
        "for i in range(4,1,-1):\n",
        "  for j in range(1,5):\n",
        "    print(i,end=\" \")\n",
        "  i-=1\n",
        "print()"
      ],
      "metadata": {
        "colab": {
          "base_uri": "https://localhost:8080/"
        },
        "id": "rTrh_cg264qs",
        "outputId": "22f35950-dd66-444f-f92e-07ba5bd1ce39"
      },
      "execution_count": null,
      "outputs": [
        {
          "output_type": "stream",
          "name": "stdout",
          "text": [
            "4 4 4 4 \n",
            "3 3 3 3 \n",
            "2 2 2 2 \n"
          ]
        }
      ]
    },
    {
      "cell_type": "code",
      "source": [
        "num=1\n",
        "for i in range(1,4):\n",
        "  for j in range(1,4):\n",
        "    print(num,end=\" \")\n",
        "    num+=1\n",
        "  print()"
      ],
      "metadata": {
        "colab": {
          "base_uri": "https://localhost:8080/"
        },
        "id": "yjEF-rpz7ExC",
        "outputId": "f53ff35d-cdde-4274-a636-9e3acfeeed21"
      },
      "execution_count": null,
      "outputs": [
        {
          "output_type": "stream",
          "name": "stdout",
          "text": [
            "1 2 3 \n",
            "4 5 6 \n",
            "7 8 9 \n"
          ]
        }
      ]
    },
    {
      "cell_type": "code",
      "source": [
        "for i in range(1,5):\n",
        "  for j in range(1,5):\n",
        "    print(j,end=\" \")\n",
        "    j+=1\n",
        "  print()"
      ],
      "metadata": {
        "colab": {
          "base_uri": "https://localhost:8080/"
        },
        "id": "RSAReg6u9OMD",
        "outputId": "9fb92170-c165-4024-c2b0-f9392489ad62"
      },
      "execution_count": null,
      "outputs": [
        {
          "output_type": "stream",
          "name": "stdout",
          "text": [
            "1 2 3 4 \n",
            "1 2 3 4 \n",
            "1 2 3 4 \n",
            "1 2 3 4 \n"
          ]
        }
      ]
    },
    {
      "cell_type": "code",
      "source": [
        "for i in range(1,5):\n",
        "  for j in range(1,i+1):\n",
        "    print(\"*\",end=\" \")\n",
        "  print()"
      ],
      "metadata": {
        "colab": {
          "base_uri": "https://localhost:8080/"
        },
        "id": "QOn6WiSd9jTE",
        "outputId": "f2a25bad-a49a-4d21-8f2d-eae059462366"
      },
      "execution_count": null,
      "outputs": [
        {
          "output_type": "stream",
          "name": "stdout",
          "text": [
            "* \n",
            "* * \n",
            "* * * \n",
            "* * * * \n"
          ]
        }
      ]
    },
    {
      "cell_type": "code",
      "source": [
        "for i in range(1,4):\n",
        "  for j in range(1,i+1):\n",
        "    print(j,end=\" \")\n",
        "  print()"
      ],
      "metadata": {
        "colab": {
          "base_uri": "https://localhost:8080/"
        },
        "id": "aJG2kmob-Al5",
        "outputId": "b9bdbb65-9cc9-4fa7-9bf2-a6e47ed5e931"
      },
      "execution_count": null,
      "outputs": [
        {
          "output_type": "stream",
          "name": "stdout",
          "text": [
            "1 \n",
            "1 2 \n",
            "1 2 3 \n"
          ]
        }
      ]
    },
    {
      "cell_type": "code",
      "source": [
        "for i in range(1,4):\n",
        "  for j in range(1,i+1):\n",
        "    print(j+3,end=\" \")\n",
        "  print()"
      ],
      "metadata": {
        "colab": {
          "base_uri": "https://localhost:8080/"
        },
        "id": "XdMGM0Z2-h-K",
        "outputId": "3b9f2620-406c-490f-e5d0-584d90528035"
      },
      "execution_count": null,
      "outputs": [
        {
          "output_type": "stream",
          "name": "stdout",
          "text": [
            "4 \n",
            "4 5 \n",
            "4 5 6 \n"
          ]
        }
      ]
    },
    {
      "cell_type": "code",
      "source": [
        "x=4\n",
        "for i in range(1,4):\n",
        "\n",
        "  for j in range(1,i+1):\n",
        "    print(x,end=\" \")\n",
        "  x-=1\n",
        "  print()"
      ],
      "metadata": {
        "colab": {
          "base_uri": "https://localhost:8080/"
        },
        "id": "GINfxBth_BF3",
        "outputId": "17ed85a8-a74c-48ff-eb21-df2749ff9182"
      },
      "execution_count": null,
      "outputs": [
        {
          "output_type": "stream",
          "name": "stdout",
          "text": [
            "4 \n",
            "3 3 \n",
            "2 2 2 \n"
          ]
        }
      ]
    },
    {
      "cell_type": "code",
      "source": [
        "for i in range(4,0,-1):\n",
        "  for j in range(i):\n",
        "    print(\"*\",end=\" \")\n",
        "\n",
        "  print()"
      ],
      "metadata": {
        "colab": {
          "base_uri": "https://localhost:8080/"
        },
        "id": "xK8U7171yYo3",
        "outputId": "03a2ee78-a6c8-41cf-81f3-d9309f1f8e0c"
      },
      "execution_count": null,
      "outputs": [
        {
          "output_type": "stream",
          "name": "stdout",
          "text": [
            "* * * * \n",
            "* * * \n",
            "* * \n",
            "* \n"
          ]
        }
      ]
    },
    {
      "cell_type": "code",
      "source": [
        "x=10\n",
        "for i in range(1,4):\n",
        "  for j in range(1,i+1):\n",
        "    print(x,end=\" \")\n",
        "    x+=1\n",
        "  print()"
      ],
      "metadata": {
        "colab": {
          "base_uri": "https://localhost:8080/"
        },
        "id": "VPgxkmTz1BM8",
        "outputId": "68baa193-4140-41c7-8839-ee90a3207672"
      },
      "execution_count": null,
      "outputs": [
        {
          "output_type": "stream",
          "name": "stdout",
          "text": [
            "10 \n",
            "11 12 \n",
            "13 14 15 \n"
          ]
        }
      ]
    },
    {
      "cell_type": "code",
      "source": [
        "x=10\n",
        "for i in range(1,4):\n",
        "  for j in range(i+1):\n",
        "    print(x+j,end=\" \")\n",
        "  x+=1\n",
        "  print()"
      ],
      "metadata": {
        "colab": {
          "base_uri": "https://localhost:8080/"
        },
        "id": "cBRCr5XE101x",
        "outputId": "73659d56-9e19-4063-fe52-608ae9c0ba1a"
      },
      "execution_count": null,
      "outputs": [
        {
          "output_type": "stream",
          "name": "stdout",
          "text": [
            "10 11 \n",
            "11 12 13 \n",
            "12 13 14 15 \n"
          ]
        }
      ]
    },
    {
      "cell_type": "code",
      "source": [
        "for i in range(1,6):\n",
        "  for j in range(i):\n",
        "    print(\"-\",end=\" \")\n"
      ],
      "metadata": {
        "colab": {
          "base_uri": "https://localhost:8080/"
        },
        "id": "N7bPTWOl6qJq",
        "outputId": "1c66f0b4-6c40-464b-eb43-4734b142713f"
      },
      "execution_count": null,
      "outputs": [
        {
          "output_type": "stream",
          "name": "stdout",
          "text": [
            "- \n",
            "- - \n",
            "- - - \n",
            "- - - - \n",
            "- - - - - \n"
          ]
        }
      ]
    },
    {
      "cell_type": "code",
      "source": [
        "for i in range(1,6):\n",
        "  for k in range(1,5-i+1):\n",
        "    print(\"*\",end=\" \")\n",
        "  print()"
      ],
      "metadata": {
        "colab": {
          "base_uri": "https://localhost:8080/"
        },
        "id": "enfvB6Lw7YR1",
        "outputId": "a33fe042-b449-4a6c-dcc9-12a5fd3d01f1"
      },
      "execution_count": null,
      "outputs": [
        {
          "output_type": "stream",
          "name": "stdout",
          "text": [
            "* * * * \n",
            "* * * \n",
            "* * \n",
            "* \n",
            "\n"
          ]
        }
      ]
    },
    {
      "cell_type": "code",
      "source": [
        "for i in range(1,6):\n",
        "  for j in range(i):\n",
        "    print(\"-\",end=\" \")\n",
        "\n",
        "  for k in range(1,5-i+1):\n",
        "    print(\"*\",end=\" \")\n",
        "\n",
        "  print()\n"
      ],
      "metadata": {
        "colab": {
          "base_uri": "https://localhost:8080/"
        },
        "id": "HYAeJ1rm82UN",
        "outputId": "3e17dd30-d4a0-440f-8d82-3d33ee17f320"
      },
      "execution_count": null,
      "outputs": [
        {
          "output_type": "stream",
          "name": "stdout",
          "text": [
            "- * * * * \n",
            "- - * * * \n",
            "- - - * * \n",
            "- - - - * \n",
            "- - - - - \n"
          ]
        }
      ]
    },
    {
      "cell_type": "code",
      "source": [
        "for i in range(1,6):\n",
        "  for j in range(1,5-i+1):\n",
        "    print(\"-\",end=\" \")\n",
        "\n",
        "  for k in range(i):\n",
        "    print(\"*\",end=\" \")\n",
        "  print()\n"
      ],
      "metadata": {
        "colab": {
          "base_uri": "https://localhost:8080/"
        },
        "id": "IlDgQ2929gp7",
        "outputId": "5d6d3f43-3676-45f5-93bf-b357c147d6d0"
      },
      "execution_count": null,
      "outputs": [
        {
          "output_type": "stream",
          "name": "stdout",
          "text": [
            "- - - - * \n",
            "- - - * * \n",
            "- - * * * \n",
            "- * * * * \n",
            "* * * * * \n"
          ]
        }
      ]
    },
    {
      "cell_type": "code",
      "source": [
        "\n",
        "for i in range(1,6):\n",
        "  x=65\n",
        "  for j in range(1,i+1):\n",
        "    print(j,end=\" \")\n",
        "\n",
        "  for k in range(1,5-i+1):\n",
        "    print(chr(x),end=\" \")\n",
        "    x+=1\n",
        "  print()"
      ],
      "metadata": {
        "colab": {
          "base_uri": "https://localhost:8080/"
        },
        "id": "j3_sb2Jl9fHD",
        "outputId": "952b03f2-e394-4457-e45c-ac5bc2c587c5"
      },
      "execution_count": null,
      "outputs": [
        {
          "output_type": "stream",
          "name": "stdout",
          "text": [
            "1 A B C D \n",
            "1 2 A B C \n",
            "1 2 3 A B \n",
            "1 2 3 4 A \n",
            "1 2 3 4 5 \n"
          ]
        }
      ]
    },
    {
      "cell_type": "code",
      "source": [
        "for i in range(1,5):\n",
        "  for j in range(0,i+1):\n",
        "    print(\" \",end=\" \")\n",
        "\n",
        "  for k in range(1,5-i+1):\n",
        "    print(\"*\",end=\" \")\n",
        "\n",
        "  print()"
      ],
      "metadata": {
        "colab": {
          "base_uri": "https://localhost:8080/"
        },
        "id": "c8ZaqI9GBVKo",
        "outputId": "a2b8151d-13a0-471c-a70a-85b413cc815f"
      },
      "execution_count": null,
      "outputs": [
        {
          "output_type": "stream",
          "name": "stdout",
          "text": [
            "    * * * * \n",
            "      * * * \n",
            "        * * \n",
            "          * \n"
          ]
        }
      ]
    },
    {
      "cell_type": "code",
      "source": [
        "for i in range(1,6):\n",
        "  for k in range(1,i+1):\n",
        "    if(k==1 or i==5 or i==k):\n",
        "      print(\"*\",end=\" \")\n",
        "    else:\n",
        "      print(\"-\",end=\" \")\n",
        "  print()"
      ],
      "metadata": {
        "colab": {
          "base_uri": "https://localhost:8080/"
        },
        "id": "fwm2u9NZC4zI",
        "outputId": "e65c7714-0bb0-4d25-a0a0-cf95a6efdc71"
      },
      "execution_count": null,
      "outputs": [
        {
          "output_type": "stream",
          "name": "stdout",
          "text": [
            "* \n",
            "* * \n",
            "* - * \n",
            "* - - * \n",
            "* * * * * \n"
          ]
        }
      ]
    },
    {
      "cell_type": "code",
      "source": [
        "for i in range(5,0,-1):\n",
        "  for k in range(1,i+1):\n",
        "    if(k==1 or i==5 or i==k):\n",
        "      print(\"*\",end=\" \")\n",
        "    else:\n",
        "      print(\" \",end=\" \")\n",
        "  print()"
      ],
      "metadata": {
        "colab": {
          "base_uri": "https://localhost:8080/"
        },
        "id": "aNXUwV50F8qq",
        "outputId": "448610d8-b52c-48be-d580-026682714432"
      },
      "execution_count": null,
      "outputs": [
        {
          "output_type": "stream",
          "name": "stdout",
          "text": [
            "* * * * * \n",
            "*     * \n",
            "*   * \n",
            "* * \n",
            "* \n"
          ]
        }
      ]
    },
    {
      "cell_type": "code",
      "source": [
        "for i in range(1,6):\n",
        "  for j in range(i-1):\n",
        "    print(\"-\",end=\" \")\n",
        "\n",
        "  for k in range(1,6):\n",
        "    if(k==5 or i==1 or k==i):\n",
        "      print(\"*\", end=\" \")\n",
        "    else:\n",
        "      print(\" \",end=\" \")\n",
        "  print()"
      ],
      "metadata": {
        "colab": {
          "base_uri": "https://localhost:8080/"
        },
        "id": "vRmtWDVlIFlG",
        "outputId": "33470a20-df21-465e-a6ce-01ba1d90a6ee"
      },
      "execution_count": null,
      "outputs": [
        {
          "output_type": "stream",
          "name": "stdout",
          "text": [
            "* * * * * \n",
            "-   *     * \n",
            "- -     *   * \n",
            "- - -       * * \n",
            "- - - -         * \n"
          ]
        }
      ]
    },
    {
      "cell_type": "code",
      "source": [
        "for i in range(1,6):\n",
        "  for k in range(1,6):\n",
        "    if(k==5 or i==1 or k==i):\n",
        "      print(\"*\", end=\" \")\n",
        "    else:\n",
        "      print(\" \",end=\" \")\n",
        "  print()"
      ],
      "metadata": {
        "colab": {
          "base_uri": "https://localhost:8080/"
        },
        "id": "TNE-OGHdJ2Nb",
        "outputId": "a80e2975-6030-4d4f-e8c2-5bc3cb95919c"
      },
      "execution_count": null,
      "outputs": [
        {
          "output_type": "stream",
          "name": "stdout",
          "text": [
            "* * * * * \n",
            "  *     * \n",
            "    *   * \n",
            "      * * \n",
            "        * \n"
          ]
        }
      ]
    },
    {
      "cell_type": "code",
      "source": [
        "x = 'Hello, Wohrld hhh! '\n",
        "result = (\"H ' in x)\n",
        "print(result)"
      ],
      "metadata": {
        "colab": {
          "base_uri": "https://localhost:8080/",
          "height": 106
        },
        "id": "qd8K8tDuYdlR",
        "outputId": "a1bc0c5c-a194-40fd-d3eb-9213dc21620e"
      },
      "execution_count": null,
      "outputs": [
        {
          "output_type": "error",
          "ename": "SyntaxError",
          "evalue": "unterminated string literal (detected at line 2) (<ipython-input-1-95f7960367cd>, line 2)",
          "traceback": [
            "\u001b[0;36m  File \u001b[0;32m\"<ipython-input-1-95f7960367cd>\"\u001b[0;36m, line \u001b[0;32m2\u001b[0m\n\u001b[0;31m    result = (\"H ' in x)\u001b[0m\n\u001b[0m              ^\u001b[0m\n\u001b[0;31mSyntaxError\u001b[0m\u001b[0;31m:\u001b[0m unterminated string literal (detected at line 2)\n"
          ]
        }
      ]
    },
    {
      "cell_type": "code",
      "source": [
        "\n",
        "\n",
        "a = 15\n",
        "b = 10\n",
        "result = a && b\n",
        "print(result)\n",
        "\n",
        "\n",
        "\n"
      ],
      "metadata": {
        "colab": {
          "base_uri": "https://localhost:8080/",
          "height": 106
        },
        "id": "RCwSj6QpYtw2",
        "outputId": "f9a68d27-38b5-4a8a-b22b-8284bb4199a5"
      },
      "execution_count": null,
      "outputs": [
        {
          "output_type": "error",
          "ename": "SyntaxError",
          "evalue": "invalid syntax (<ipython-input-3-ecfaefde3de0>, line 3)",
          "traceback": [
            "\u001b[0;36m  File \u001b[0;32m\"<ipython-input-3-ecfaefde3de0>\"\u001b[0;36m, line \u001b[0;32m3\u001b[0m\n\u001b[0;31m    result = a && b\u001b[0m\n\u001b[0m                ^\u001b[0m\n\u001b[0;31mSyntaxError\u001b[0m\u001b[0;31m:\u001b[0m invalid syntax\n"
          ]
        }
      ]
    },
    {
      "cell_type": "code",
      "source": [
        "for i in range(1,51):\n",
        "  if(i%2==0):\n",
        "    if(i%3==0):\n",
        "      if(i%6==0):\n",
        "        print(\"Numbers Divisible by 2,3 & 6 are:\",i)\n",
        "\n"
      ],
      "metadata": {
        "colab": {
          "base_uri": "https://localhost:8080/"
        },
        "id": "hKEACnJkaW14",
        "outputId": "ffdbc2eb-1376-487c-b3a8-ea8286b640b0"
      },
      "execution_count": null,
      "outputs": [
        {
          "output_type": "stream",
          "name": "stdout",
          "text": [
            "Numbers Divisible by 2,3 & 6 are: 6\n",
            "Numbers Divisible by 2,3 & 6 are: 12\n",
            "Numbers Divisible by 2,3 & 6 are: 18\n",
            "Numbers Divisible by 2,3 & 6 are: 24\n",
            "Numbers Divisible by 2,3 & 6 are: 30\n",
            "Numbers Divisible by 2,3 & 6 are: 36\n",
            "Numbers Divisible by 2,3 & 6 are: 42\n",
            "Numbers Divisible by 2,3 & 6 are: 48\n"
          ]
        }
      ]
    },
    {
      "cell_type": "code",
      "source": [
        "num=2\n",
        "\n",
        "count=0\n",
        "while(count<=3):\n",
        "  a=0\n",
        "  for i in range(2,num):\n",
        "    if(num%i==0):\n",
        "      a=1\n",
        "      break\n",
        "\n",
        "    if(a==1):\n",
        "      print(\" not a Prime number\",num)\n",
        "    else:\n",
        "      print(\"prime\",num)\n",
        "    count+=1\n",
        "  num+=1\n",
        "\n"
      ],
      "metadata": {
        "colab": {
          "base_uri": "https://localhost:8080/"
        },
        "id": "BmoXeFDnbUFD",
        "outputId": "8def5095-5170-4155-e94d-b2be660667fd"
      },
      "execution_count": null,
      "outputs": [
        {
          "output_type": "stream",
          "name": "stdout",
          "text": [
            "prime 3\n",
            "prime 5\n",
            "prime 5\n",
            "prime 5\n"
          ]
        }
      ]
    },
    {
      "cell_type": "code",
      "source": [
        "num=43332\n",
        "sum=0\n",
        "while(num>0):\n",
        "  digit=num%10\n",
        "  sum=sum+digit\n",
        "  num=num//10\n",
        "print(sum)"
      ],
      "metadata": {
        "colab": {
          "base_uri": "https://localhost:8080/"
        },
        "id": "qmxeOLZZaT97",
        "outputId": "11a59a1f-c6a5-426b-9bd2-4b855bd85828"
      },
      "execution_count": null,
      "outputs": [
        {
          "output_type": "stream",
          "name": "stdout",
          "text": [
            "15\n"
          ]
        }
      ]
    },
    {
      "cell_type": "code",
      "source": [
        "input='43213'\n",
        "vowels={'a','e','i','o','u'}\n",
        "count=0\n",
        "for char in input:\n",
        "  if char in vowels:\n",
        "    count+=1\n",
        "\n",
        "print(count)"
      ],
      "metadata": {
        "colab": {
          "base_uri": "https://localhost:8080/"
        },
        "id": "E-giYSZCbxBF",
        "outputId": "c16b9ee3-2386-4af0-c37a-46d496cad60d"
      },
      "execution_count": null,
      "outputs": [
        {
          "output_type": "stream",
          "name": "stdout",
          "text": [
            "0\n"
          ]
        }
      ]
    },
    {
      "cell_type": "code",
      "source": [
        "num=1634\n",
        "\n",
        "num_str=str(num)\n",
        "sum=0\n",
        "power=len(num_str)\n",
        "\n",
        "for digit in num_str:\n",
        "  digit=int(digit)\n",
        "  sum=sum+(digit**power)\n",
        "\n",
        "if(num==sum):\n",
        "  print(\": Narcissistic Number\")\n",
        "\n",
        "else:\n",
        "  print( \" not a Narcissistic Number\")"
      ],
      "metadata": {
        "colab": {
          "base_uri": "https://localhost:8080/"
        },
        "id": "PiTHCGMJfKFN",
        "outputId": "2e16a0e4-ff58-4c55-f3e4-02ffb959d452"
      },
      "execution_count": null,
      "outputs": [
        {
          "output_type": "stream",
          "name": "stdout",
          "text": [
            ": Narcissistic Number\n"
          ]
        }
      ]
    },
    {
      "cell_type": "code",
      "source": [
        "for i in range(0,5):\n",
        "  for j in range(i):\n",
        "    print(\"#\",end=\"\")\n",
        "  print()\n",
        "\n",
        "for i in range(3,0,-1):\n",
        "  for j in range(i):\n",
        "    print(\"#\",end=\"\")\n",
        "  print()"
      ],
      "metadata": {
        "colab": {
          "base_uri": "https://localhost:8080/"
        },
        "id": "GeiqYen-g3Vw",
        "outputId": "f197a20d-cd15-4681-abff-4fac7b867764"
      },
      "execution_count": null,
      "outputs": [
        {
          "output_type": "stream",
          "name": "stdout",
          "text": [
            "\n",
            "#\n",
            "##\n",
            "###\n",
            "####\n",
            "###\n",
            "##\n",
            "#\n"
          ]
        }
      ]
    },
    {
      "cell_type": "code",
      "source": [
        "s='regex'\n",
        "mid=len(s)\n",
        "half=mid//2\n",
        "if(mid%2==0):\n",
        "  a=s[:half]\n",
        "  b=s[half:]\n",
        "else:\n",
        "  a=s[:half]\n",
        "  b=[]\n",
        "\n",
        "if(a==b):\n",
        "  print(\"Symmetry\")\n",
        "else:\n",
        "  print(\"not a symmetry\")\n"
      ],
      "metadata": {
        "colab": {
          "base_uri": "https://localhost:8080/"
        },
        "id": "6xhymJN3jb0P",
        "outputId": "c1ca6a16-3fe6-4b39-bcbb-839b0331eee0"
      },
      "execution_count": null,
      "outputs": [
        {
          "output_type": "stream",
          "name": "stdout",
          "text": [
            "Symmetry\n"
          ]
        }
      ]
    },
    {
      "cell_type": "code",
      "source": [
        "n=int(input(\"Enter the number\"))\n",
        "sum=0\n",
        "for i in range(1,n):\n",
        "  if(i%2!=0):\n",
        "    sum+=i\n",
        "print(sum)"
      ],
      "metadata": {
        "id": "H0mmISwE2Dlv",
        "colab": {
          "base_uri": "https://localhost:8080/"
        },
        "outputId": "b446e51e-56e6-4f29-fc84-4afa2c7b5732"
      },
      "execution_count": null,
      "outputs": [
        {
          "output_type": "stream",
          "name": "stdout",
          "text": [
            "Enter the number7\n",
            "9\n"
          ]
        }
      ]
    },
    {
      "cell_type": "code",
      "source": [
        "num=int(input(\"Enter the number\"))\n",
        "num1=str(num)\n",
        "print(num1[0])\n",
        "print(num1[-1])"
      ],
      "metadata": {
        "id": "jKPO2hGmOlc9",
        "colab": {
          "base_uri": "https://localhost:8080/"
        },
        "outputId": "20f68d7a-4c7c-4820-9bc7-2c18954373fc"
      },
      "execution_count": 4,
      "outputs": [
        {
          "output_type": "stream",
          "name": "stdout",
          "text": [
            "Enter the number1234\n",
            "1\n",
            "4\n"
          ]
        }
      ]
    },
    {
      "cell_type": "code",
      "source": [
        "#Q9\n",
        "num=int(input(\"Enter the number\"))\n",
        "num1=str(num)\n",
        "sum=0\n",
        "print(num1[0])\n",
        "print(num1[-1])\n",
        "sum=int(num1[0])+int(num1[-1])\n",
        "print(sum)"
      ],
      "metadata": {
        "colab": {
          "base_uri": "https://localhost:8080/"
        },
        "id": "H-NZLyKqP0bC",
        "outputId": "28ff8e84-9095-4dc1-b415-6d7da42f0a00"
      },
      "execution_count": 8,
      "outputs": [
        {
          "output_type": "stream",
          "name": "stdout",
          "text": [
            "Enter the number123\n",
            "1\n",
            "3\n",
            "4\n"
          ]
        }
      ]
    },
    {
      "cell_type": "code",
      "source": [
        "#Q10\n",
        "num=int(input(\"Enter the number\"))\n",
        "rev=0\n",
        "while(num>0):\n",
        "  digit=num%10\n",
        "  rev=rev*10+digit\n",
        "  num=num//10\n",
        "\n",
        "print(rev)"
      ],
      "metadata": {
        "colab": {
          "base_uri": "https://localhost:8080/"
        },
        "id": "WNXwGDW7Qj8Z",
        "outputId": "1d073c87-04fd-4c97-de0f-6f9fdb6c054f"
      },
      "execution_count": 9,
      "outputs": [
        {
          "output_type": "stream",
          "name": "stdout",
          "text": [
            "Enter the number123\n",
            "321\n"
          ]
        }
      ]
    },
    {
      "cell_type": "code",
      "source": [
        "#Q11\n",
        "base=int(input(\"enter the base\"))\n",
        "power=int(input(\"enter the power\"))\n",
        "ans=0\n",
        "for i in range(power):\n",
        "  ans=base**power\n",
        "print (ans)"
      ],
      "metadata": {
        "colab": {
          "base_uri": "https://localhost:8080/"
        },
        "id": "WFWLFBjLTWuM",
        "outputId": "054634bb-170d-422e-e850-13a5746b1770"
      },
      "execution_count": 13,
      "outputs": [
        {
          "output_type": "stream",
          "name": "stdout",
          "text": [
            "enter the base5\n",
            "enter the power3\n",
            "125\n"
          ]
        }
      ]
    },
    {
      "cell_type": "code",
      "source": [
        "#Q12\n",
        "n=int(input(\"enter the number\"))\n",
        "for i in range(i,n+1):\n",
        "  if(n%i==0):\n",
        "    print(\"The factors are =>\",i)"
      ],
      "metadata": {
        "colab": {
          "base_uri": "https://localhost:8080/"
        },
        "id": "ty928h9TUx-i",
        "outputId": "6ac6aa1c-a4c1-4051-85b4-4675e8a604cf"
      },
      "execution_count": 15,
      "outputs": [
        {
          "output_type": "stream",
          "name": "stdout",
          "text": [
            "enter the number8\n",
            "The factors are => 8\n"
          ]
        }
      ]
    },
    {
      "cell_type": "code",
      "source": [
        "#to check prime or not\n",
        "n=int(input(\"Enter the number\"))\n",
        "a=0\n",
        "for i in range(2,n//2):\n",
        "  if(n%i==0):\n",
        "    a+=1\n",
        "    break\n",
        "\n",
        "if(a==0):\n",
        "  print(\"prime\")\n",
        "\n",
        "else:\n",
        "  print(\" not a prime\")\n"
      ],
      "metadata": {
        "colab": {
          "base_uri": "https://localhost:8080/"
        },
        "id": "WbgzqBFeVJz9",
        "outputId": "e1210994-4b9d-4261-e5b2-5c447b46ed05"
      },
      "execution_count": 26,
      "outputs": [
        {
          "output_type": "stream",
          "name": "stdout",
          "text": [
            "Enter the number9\n",
            " not a prime\n"
          ]
        }
      ]
    },
    {
      "cell_type": "code",
      "source": [
        "#to print prime numbers upto\n",
        "\n",
        "n=int(input(\"enter the number\"))\n",
        "\n",
        "for num in range(2,n+1):\n",
        "  count=0\n",
        "\n",
        "  for i in range(1,num+1):\n",
        "    if(num%i==0):\n",
        "      count+=1\n",
        "  if(count==2):\n",
        "    print(num,\"is a prime number\")"
      ],
      "metadata": {
        "colab": {
          "base_uri": "https://localhost:8080/"
        },
        "id": "eKH3ci3tY1fI",
        "outputId": "5a73689c-5a03-42a1-aad5-059d24b293c0"
      },
      "execution_count": 27,
      "outputs": [
        {
          "output_type": "stream",
          "name": "stdout",
          "text": [
            "enter the number11\n",
            "2 is a prime number\n",
            "3 is a prime number\n",
            "5 is a prime number\n",
            "7 is a prime number\n",
            "11 is a prime number\n"
          ]
        }
      ]
    },
    {
      "cell_type": "code",
      "source": [
        "#TO check whether number is a armstrong\n",
        "num=int(input(\"Enter the number\"))\n",
        "length=len(str(num))\n",
        "print(length)\n",
        "num1=num\n",
        "sum=0\n",
        "while(num>0):\n",
        "  digit=num%10\n",
        "  sum+=digit**length\n",
        "  num=num//10\n",
        "print(\"sum is =>\",sum)\n",
        "\n",
        "if(sum==num1):\n",
        "  print(\"Armstrong\")\n",
        "\n",
        "else:\n",
        "  print(\"Not a Armstrong\")\n"
      ],
      "metadata": {
        "colab": {
          "base_uri": "https://localhost:8080/"
        },
        "id": "GJKGIAPQaCWM",
        "outputId": "8b0490ea-ca05-4e0b-8d73-dd3baa0bf2f6"
      },
      "execution_count": 30,
      "outputs": [
        {
          "output_type": "stream",
          "name": "stdout",
          "text": [
            "Enter the number153\n",
            "3\n",
            "sum is => 153\n",
            "Armstrong\n"
          ]
        }
      ]
    },
    {
      "cell_type": "code",
      "source": [
        "#Perfect Number\n",
        "n=int(input(\"enter the number\"))\n",
        "sum=0\n",
        "for i in range(1,n):\n",
        "  if(n%i==0):\n",
        "    sum+=i\n",
        "print(sum)\n",
        "\n",
        "if(sum==n):\n",
        "  print(\"perfect number\")\n",
        "\n",
        "else:\n",
        "  print(\"not a perfect number\")"
      ],
      "metadata": {
        "colab": {
          "base_uri": "https://localhost:8080/"
        },
        "id": "dnNl_80ea-lN",
        "outputId": "525070d6-ab64-42e8-aabc-3cf01347d184"
      },
      "execution_count": 34,
      "outputs": [
        {
          "output_type": "stream",
          "name": "stdout",
          "text": [
            "enter the number6\n",
            "6\n",
            "perfect number\n"
          ]
        }
      ]
    },
    {
      "cell_type": "code",
      "source": [],
      "metadata": {
        "id": "RjtAqLDrcGJK"
      },
      "execution_count": null,
      "outputs": []
    }
  ]
}