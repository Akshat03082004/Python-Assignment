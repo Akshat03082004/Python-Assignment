{
  "nbformat": 4,
  "nbformat_minor": 0,
  "metadata": {
    "colab": {
      "provenance": [],
      "authorship_tag": "ABX9TyPCJMlNju2wxyWnvEmmuw4D"
    },
    "kernelspec": {
      "name": "python3",
      "display_name": "Python 3"
    },
    "language_info": {
      "name": "python"
    }
  },
  "cells": [
    {
      "cell_type": "code",
      "execution_count": 15,
      "metadata": {
        "colab": {
          "base_uri": "https://localhost:8080/"
        },
        "id": "UV7eIpN3yNxY",
        "outputId": "34f3d150-264b-49c8-e01d-4add0745bc14"
      },
      "outputs": [
        {
          "output_type": "stream",
          "name": "stdout",
          "text": [
            "enter the number24863\n",
            "14\n"
          ]
        }
      ],
      "source": [
        "#To print the sum of even number from a input\n",
        "num=input(\"enter the number\")\n",
        "sum=0\n",
        "\n",
        "for digit in num:\n",
        "  if int(digit)%2==0 and int(digit)%3!=0:\n",
        "    sum=sum+int(digit)\n",
        "\n",
        "print(sum)"
      ]
    },
    {
      "cell_type": "code",
      "source": [
        "#TO find the largest digit\n",
        "num=input(\"enter the number\")\n",
        "\n",
        "max=0\n",
        "\n",
        "for digit in num:\n",
        "  if int(digit)>max:\n",
        "    max=int(digit)\n",
        "print(max)"
      ],
      "metadata": {
        "colab": {
          "base_uri": "https://localhost:8080/"
        },
        "id": "iOF-O_Su0hE4",
        "outputId": "f923d754-e7de-4a37-f438-8ddfab4f34c1"
      },
      "execution_count": 16,
      "outputs": [
        {
          "output_type": "stream",
          "name": "stdout",
          "text": [
            "enter the number527149\n",
            "9\n"
          ]
        }
      ]
    },
    {
      "cell_type": "code",
      "source": [
        "#TO check if the I/O is a perfect square or not\n",
        "\n",
        "# Input the number\n",
        "num = int(input(\"Enter the number: \"))\n",
        "\n",
        "# Initialize a variable to find the square root\n",
        "i = 1\n",
        "\n",
        "# Loop to check for the square root\n",
        "while i * i <= num:\n",
        "    if i * i == num:  # Check if it's a perfect square\n",
        "        print(f\"{i} is the square root of {num}\")\n",
        "        break\n",
        "    i += 1\n",
        "else:\n",
        "    print(f\"{num} is not a perfect square.\")\n"
      ],
      "metadata": {
        "colab": {
          "base_uri": "https://localhost:8080/"
        },
        "id": "nZwVGtIA1sV_",
        "outputId": "81355a55-b569-4820-c521-f489ebb394bc"
      },
      "execution_count": 17,
      "outputs": [
        {
          "output_type": "stream",
          "name": "stdout",
          "text": [
            "Enter the number: 16\n",
            "4 is the square root of 16\n"
          ]
        }
      ]
    },
    {
      "cell_type": "code",
      "source": [
        "#TO get the first digit of the input number\n",
        "\n",
        "# Input the number\n",
        "num = int(input(\"Enter the number: \"))\n",
        "\n",
        "# Loop to reduce the number until only the first digit remains\n",
        "while num >= 10:\n",
        "    num //= 10  # Remove the last digit\n",
        "\n",
        "# Output the first digit\n",
        "print(\"The first digit is:\", num)\n"
      ],
      "metadata": {
        "colab": {
          "base_uri": "https://localhost:8080/"
        },
        "id": "h7_h72aw3AJr",
        "outputId": "2c473c30-c24b-4aee-9a85-e57c21e14d35"
      },
      "execution_count": 18,
      "outputs": [
        {
          "output_type": "stream",
          "name": "stdout",
          "text": [
            "Enter the number: 98765\n",
            "The first digit is: 9\n"
          ]
        }
      ]
    },
    {
      "cell_type": "code",
      "source": [
        "# CODE to divide the number by 2 until it becomes odd\n",
        "\n",
        "# Input the number\n",
        "num = int(input(\"Enter the number: \"))\n",
        "\n",
        "# Loop to divide the number by 2 until it becomes odd\n",
        "while num % 2 == 0:\n",
        "    num //= 2  # Perform integer division by 2\n",
        "\n",
        "# Output the result\n",
        "print(\"The resulting odd number is:\", num)\n"
      ],
      "metadata": {
        "colab": {
          "base_uri": "https://localhost:8080/"
        },
        "id": "HdE_wB9-39xH",
        "outputId": "d3db0ba7-5eb2-43a3-f1ba-53f253972819"
      },
      "execution_count": 20,
      "outputs": [
        {
          "output_type": "stream",
          "name": "stdout",
          "text": [
            "Enter the number: 40\n",
            "The resulting odd number is: 5\n"
          ]
        }
      ]
    },
    {
      "cell_type": "code",
      "source": [
        "#To check whether a string is ANAGRAM\n",
        "\n",
        "\n",
        "# Input the two strings\n",
        "str1 = input(\"Enter the first string: \").lower()\n",
        "str2 = input(\"Enter the second string: \").lower()\n",
        "\n",
        "# Check if both strings have the same characters with the same frequencies\n",
        "same=True\n",
        "\n",
        "for char in str1:\n",
        "    if str1.count(char) != str2.count(char):\n",
        "        same=False\n",
        "        break\n",
        "\n",
        "# Output the result\n",
        "if same and len(str1) == len(str2):\n",
        "    print(f\"{str2} is an anagram of {str1}\")\n",
        "else:\n",
        "    print(f\"{str2} is not an anagram of {str1}\")\n"
      ],
      "metadata": {
        "colab": {
          "base_uri": "https://localhost:8080/"
        },
        "id": "BMW2SZsJ5NU2",
        "outputId": "35f8a2ca-bfc8-4873-8f5a-8974c6443b02"
      },
      "execution_count": 26,
      "outputs": [
        {
          "output_type": "stream",
          "name": "stdout",
          "text": [
            "Enter the first string: hey\n",
            "Enter the second string: yht\n",
            "yht is not an anagram of hey\n"
          ]
        }
      ]
    }
  ]
}