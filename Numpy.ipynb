{
  "nbformat": 4,
  "nbformat_minor": 0,
  "metadata": {
    "colab": {
      "provenance": [],
      "authorship_tag": "ABX9TyM1Mhc07W0m/iK46utyA7Ge"
    },
    "kernelspec": {
      "name": "python3",
      "display_name": "Python 3"
    },
    "language_info": {
      "name": "python"
    }
  },
  "cells": [
    {
      "cell_type": "code",
      "execution_count": null,
      "metadata": {
        "colab": {
          "base_uri": "https://localhost:8080/"
        },
        "id": "9SCkHaDxYySw",
        "outputId": "e3331d98-ea22-4a2b-f27c-135e6d86bfb5"
      },
      "outputs": [
        {
          "output_type": "stream",
          "name": "stdout",
          "text": [
            "Requirement already satisfied: numpy in /usr/local/lib/python3.11/dist-packages (2.0.2)\n"
          ]
        }
      ],
      "source": [
        "!pip install numpy"
      ]
    },
    {
      "cell_type": "code",
      "source": [
        "import numpy\n",
        "numpy.arange(4)"
      ],
      "metadata": {
        "colab": {
          "base_uri": "https://localhost:8080/"
        },
        "id": "NNgL_TP_ZFbI",
        "outputId": "c2e6eb5f-828f-4efa-cacd-e50b709b8f67"
      },
      "execution_count": null,
      "outputs": [
        {
          "output_type": "execute_result",
          "data": {
            "text/plain": [
              "array([0, 1, 2, 3])"
            ]
          },
          "metadata": {},
          "execution_count": 5
        }
      ]
    },
    {
      "cell_type": "code",
      "source": [
        "#Scalar => Refers to single numeric value\n",
        "\n",
        "#Vectors => Refers to a 1 Dimension like either row or column\n",
        "\n",
        "'''Row vector->  Having only one row'''\n",
        "\n",
        "'''Column vector-> having  only one column'''\n",
        "\n",
        "#Matrix -=> Refera to 2D array having rows and colums"
      ],
      "metadata": {
        "id": "L-e7dBfQaesb"
      },
      "execution_count": null,
      "outputs": []
    },
    {
      "cell_type": "code",
      "source": [
        "import numpy\n",
        "arr=numpy.arange(4)\n",
        "print(arr)\n",
        "arr+3\n",
        "print(arr)"
      ],
      "metadata": {
        "colab": {
          "base_uri": "https://localhost:8080/"
        },
        "id": "0xcRssU0bEa_",
        "outputId": "29ce9d95-a5ea-48dd-c182-8318a60158fe"
      },
      "execution_count": null,
      "outputs": [
        {
          "output_type": "stream",
          "name": "stdout",
          "text": [
            "[0 1 2 3]\n",
            "[0 1 2 3]\n"
          ]
        }
      ]
    },
    {
      "cell_type": "code",
      "source": [
        "import numpy as np\n",
        "arr=np.arange(4)\n",
        "arr.size  #No. of elements\n",
        "arr.shape #Tells the number of rows or column\n",
        "print(\"Orignal=>\",arr)\n",
        "arr[0]=10\n",
        "print(\"After changing=>\",arr)"
      ],
      "metadata": {
        "colab": {
          "base_uri": "https://localhost:8080/"
        },
        "id": "OkWzRe2DbsUa",
        "outputId": "8ec8b6c0-c6bd-47a5-bba5-5a1266fbb66a"
      },
      "execution_count": null,
      "outputs": [
        {
          "output_type": "stream",
          "name": "stdout",
          "text": [
            "Orignal=> [0 1 2 3]\n",
            "After changing=> [10  1  2  3]\n"
          ]
        }
      ]
    },
    {
      "cell_type": "code",
      "source": [
        "import numpy as np\n",
        "arr=np.array([10,20,30])\n",
        "arr1=np.array([[10,20,30]])   #Row Vector\n",
        "print(arr.shape,arr1.shape)"
      ],
      "metadata": {
        "colab": {
          "base_uri": "https://localhost:8080/"
        },
        "id": "gLikMZW4dv-r",
        "outputId": "cc02d04d-3cb7-4972-fe14-8eca84dfbe5b"
      },
      "execution_count": null,
      "outputs": [
        {
          "output_type": "stream",
          "name": "stdout",
          "text": [
            "(3,) (1, 3)\n"
          ]
        }
      ]
    },
    {
      "cell_type": "code",
      "source": [
        "import numpy as np\n",
        "arr1=np.array([[10,20,30],\n",
        "              [40,50,60]])\n",
        "print(arr1.shape)\n",
        "print(arr1)\n",
        "\n",
        "arr1=arr1.reshape((3,2))  #Reshape=> converts the matrix as described\n",
        "print(arr1)"
      ],
      "metadata": {
        "colab": {
          "base_uri": "https://localhost:8080/"
        },
        "id": "w3zFBc08eyK1",
        "outputId": "66766c04-ca3d-4833-f806-8d401f0f6ed7"
      },
      "execution_count": null,
      "outputs": [
        {
          "output_type": "stream",
          "name": "stdout",
          "text": [
            "(2, 3)\n",
            "[[10 20 30]\n",
            " [40 50 60]]\n",
            "[[10 20]\n",
            " [30 40]\n",
            " [50 60]]\n"
          ]
        }
      ]
    },
    {
      "cell_type": "code",
      "source": [
        "import numpy as np\n",
        "arr=np.array([[1,2,3],\n",
        "               [4,5,3],\n",
        "               [7,8,9],\n",
        "             [10,11,12]])\n",
        "\n",
        "print(arr.shape)\n",
        "print(\"\\nOrgnal matrix\\n\")\n",
        "\n",
        "print(arr)\n",
        "\n",
        "\n",
        "arr=arr.reshape(3,4)\n",
        "print(\"\\nAfter Modifying\\n\")\n",
        "\n",
        "print(arr)"
      ],
      "metadata": {
        "colab": {
          "base_uri": "https://localhost:8080/"
        },
        "id": "u153_dUCgAKD",
        "outputId": "12b59252-4f9b-459e-87cc-efce6e080d72"
      },
      "execution_count": null,
      "outputs": [
        {
          "output_type": "stream",
          "name": "stdout",
          "text": [
            "(4, 3)\n",
            "\n",
            "Orgnal matrix\n",
            "\n",
            "[[ 1  2  3]\n",
            " [ 4  5  3]\n",
            " [ 7  8  9]\n",
            " [10 11 12]]\n",
            "\n",
            "After Modifying\n",
            "\n",
            "[[ 1  2  3  4]\n",
            " [ 5  3  7  8]\n",
            " [ 9 10 11 12]]\n"
          ]
        }
      ]
    },
    {
      "cell_type": "code",
      "source": [
        "np.zeros((2,2))"
      ],
      "metadata": {
        "colab": {
          "base_uri": "https://localhost:8080/"
        },
        "id": "dQuQWvs7hPqh",
        "outputId": "5893e0ea-4586-4e49-8202-04b903b2a94c"
      },
      "execution_count": null,
      "outputs": [
        {
          "output_type": "execute_result",
          "data": {
            "text/plain": [
              "array([[0., 0.],\n",
              "       [0., 0.]])"
            ]
          },
          "metadata": {},
          "execution_count": 61
        }
      ]
    },
    {
      "cell_type": "code",
      "source": [
        "np.ones((2,4))"
      ],
      "metadata": {
        "colab": {
          "base_uri": "https://localhost:8080/"
        },
        "id": "kB8EIHSThYFH",
        "outputId": "53a5c5ff-e32b-42de-e0c1-eef77734b38a"
      },
      "execution_count": null,
      "outputs": [
        {
          "output_type": "execute_result",
          "data": {
            "text/plain": [
              "array([[1., 1., 1., 1.],\n",
              "       [1., 1., 1., 1.]])"
            ]
          },
          "metadata": {},
          "execution_count": 62
        }
      ]
    },
    {
      "cell_type": "code",
      "source": [
        "arr1=np.arange(10,dtype=\"float\")\n",
        "\n",
        "arr1=arr1.reshape(5,2)\n",
        "arr1\n",
        "np.ones_like(arr1)  #Gives ones array of the given matrix size"
      ],
      "metadata": {
        "colab": {
          "base_uri": "https://localhost:8080/"
        },
        "id": "45orqeffhcdB",
        "outputId": "69ca4c2f-a562-4031-e902-524651489def"
      },
      "execution_count": null,
      "outputs": [
        {
          "output_type": "execute_result",
          "data": {
            "text/plain": [
              "array([[1., 1.],\n",
              "       [1., 1.],\n",
              "       [1., 1.],\n",
              "       [1., 1.],\n",
              "       [1., 1.]])"
            ]
          },
          "metadata": {},
          "execution_count": 73
        }
      ]
    },
    {
      "cell_type": "code",
      "source": [
        "arr=np.eye((3))   #Identical array\n",
        "print(arr)"
      ],
      "metadata": {
        "colab": {
          "base_uri": "https://localhost:8080/"
        },
        "id": "PdpQhSUxif4R",
        "outputId": "91fc4750-8c1f-4cec-f8ec-6e58ec7f4746"
      },
      "execution_count": null,
      "outputs": [
        {
          "output_type": "stream",
          "name": "stdout",
          "text": [
            "[[1. 0. 0.]\n",
            " [0. 1. 0.]\n",
            " [0. 0. 1.]]\n"
          ]
        }
      ]
    },
    {
      "cell_type": "code",
      "source": [
        "#SLICING & INDEXING"
      ],
      "metadata": {
        "id": "l7TIC1TxtRoT"
      },
      "execution_count": null,
      "outputs": []
    },
    {
      "cell_type": "code",
      "source": [
        "import numpy as np\n",
        "arr=np.array([[10,20,30],\n",
        "              [40,50,60]])\n",
        "\n",
        "print(arr[1][2])  #first value is row & second is column\n",
        "\n",
        "print(arr[:,1]) #All rows and column 1\n",
        "\n",
        "print(arr[0:,1:]) #First two rows and column 1 onwards"
      ],
      "metadata": {
        "colab": {
          "base_uri": "https://localhost:8080/"
        },
        "id": "qwkyQr_gubLz",
        "outputId": "14dd0094-1b5d-480b-a0f6-dd4c0ea9fd01"
      },
      "execution_count": null,
      "outputs": [
        {
          "output_type": "stream",
          "name": "stdout",
          "text": [
            "60\n",
            "[20 50]\n",
            "[[20 30]\n",
            " [50 60]]\n"
          ]
        }
      ]
    },
    {
      "cell_type": "code",
      "source": [
        "import numpy as np\n",
        "arr=np.array([[10,20,30],\n",
        "              [40,50,60]])\n",
        "\n",
        "print(arr[:,0:2].flatten()) #Flatten converts 2D to 1D array"
      ],
      "metadata": {
        "colab": {
          "base_uri": "https://localhost:8080/"
        },
        "id": "b0C8asNAvPne",
        "outputId": "0f8f6ff8-85bc-46aa-ca4d-29222060f657"
      },
      "execution_count": null,
      "outputs": [
        {
          "output_type": "stream",
          "name": "stdout",
          "text": [
            "[10 20 40 50]\n"
          ]
        }
      ]
    },
    {
      "cell_type": "code",
      "source": [
        "arr=np.array([[10,20,30],[40,50,60]])\n",
        "print(arr)\n",
        "arr[arr>25]   #Filtering the data"
      ],
      "metadata": {
        "colab": {
          "base_uri": "https://localhost:8080/"
        },
        "id": "Abmgtr6Ix631",
        "outputId": "e779b970-51c5-4d8d-beb9-62a2f8f76533"
      },
      "execution_count": null,
      "outputs": [
        {
          "output_type": "stream",
          "name": "stdout",
          "text": [
            "[[10 20 30]\n",
            " [40 50 60]]\n"
          ]
        },
        {
          "output_type": "execute_result",
          "data": {
            "text/plain": [
              "array([30, 40, 50, 60])"
            ]
          },
          "metadata": {},
          "execution_count": 47
        }
      ]
    },
    {
      "cell_type": "code",
      "source": [
        "arr=np.array([[10,20,30],[40,50,60]])\n",
        "arr[(arr>25)&(arr<50)]  #Double Filtering"
      ],
      "metadata": {
        "colab": {
          "base_uri": "https://localhost:8080/"
        },
        "id": "5agBRsjczLsU",
        "outputId": "8cf338e8-84ab-4103-f98a-165c36518d77"
      },
      "execution_count": null,
      "outputs": [
        {
          "output_type": "execute_result",
          "data": {
            "text/plain": [
              "array([30, 40])"
            ]
          },
          "metadata": {},
          "execution_count": 51
        }
      ]
    },
    {
      "cell_type": "code",
      "source": [
        "import numpy as np\n",
        "a=np.array([1,2,3])\n",
        "b=np.array([4,5,6])\n",
        "add=a+b\n",
        "print(\"add=>\",add)  #Element wise addition\n",
        "mul=a*b\n",
        "print(\"mul=>\",mul)\n",
        "sub=a-b\n",
        "print(\"sub=>\",sub)\n",
        "dot=a.dot(b) #Dot product gives a multiplication+addition\n",
        "print(\"dot product=>\",dot)"
      ],
      "metadata": {
        "colab": {
          "base_uri": "https://localhost:8080/"
        },
        "id": "AH5_2KUVzoMk",
        "outputId": "9e773655-59e1-4d8d-f00e-e3a3166d8346"
      },
      "execution_count": null,
      "outputs": [
        {
          "output_type": "stream",
          "name": "stdout",
          "text": [
            "add=> [5 7 9]\n",
            "mul=> [ 4 10 18]\n",
            "sub=> [-3 -3 -3]\n",
            "dot product=> 32\n"
          ]
        }
      ]
    },
    {
      "cell_type": "code",
      "source": [
        "a=np.array([[1,2,3],[4,5,6]])\n",
        "b=np.array([2,4,6])\n",
        "print(a.dot(b))"
      ],
      "metadata": {
        "colab": {
          "base_uri": "https://localhost:8080/"
        },
        "id": "k5b_ygSm1aCF",
        "outputId": "9a10e5c2-91ff-48ca-b020-e9bbe2c81ef9"
      },
      "execution_count": null,
      "outputs": [
        {
          "output_type": "stream",
          "name": "stdout",
          "text": [
            "[28 64]\n"
          ]
        }
      ]
    },
    {
      "cell_type": "code",
      "source": [
        "a=np.array([[1,2],[4,5],[1,2]])\n",
        "b=np.array([[10,20,30],[50,100,200]])\n",
        "print(a.dot(b))"
      ],
      "metadata": {
        "colab": {
          "base_uri": "https://localhost:8080/"
        },
        "id": "chu9A-Ai21IE",
        "outputId": "e4448247-24a1-4cb3-88e7-9c9f9a9b00c6"
      },
      "execution_count": null,
      "outputs": [
        {
          "output_type": "stream",
          "name": "stdout",
          "text": [
            "[[ 110  220  430]\n",
            " [ 290  580 1120]\n",
            " [ 110  220  430]]\n"
          ]
        }
      ]
    },
    {
      "cell_type": "code",
      "source": [
        "#Aggregate function\n",
        "data=np.array([[1,2],[3,4]])\n",
        "sum=np.sum(data)\n",
        "print(sum)\n",
        "mean=np.mean(data)\n",
        "print(mean)\n",
        "min=np.min(data,axis=0)   #axis=0 column\n",
        "print(min)\n",
        "max=np.max(data,axis=1)   #axis=1 rows\n",
        "print(max)"
      ],
      "metadata": {
        "colab": {
          "base_uri": "https://localhost:8080/"
        },
        "id": "PXkqQ0xc5MvQ",
        "outputId": "c2830660-775a-441d-fa42-bb009c4b83a7"
      },
      "execution_count": 84,
      "outputs": [
        {
          "output_type": "stream",
          "name": "stdout",
          "text": [
            "10\n",
            "2.5\n",
            "[1 2]\n",
            "[2 4]\n"
          ]
        }
      ]
    },
    {
      "cell_type": "code",
      "source": [
        "data=np.array([[1,2,5],[3,4,2]])\n",
        "max=np.max(data,axis=1)\n",
        "print(max)"
      ],
      "metadata": {
        "colab": {
          "base_uri": "https://localhost:8080/"
        },
        "id": "KNlJxQJ26Vhg",
        "outputId": "245c4876-4bfd-4c7b-ee0c-6eaf1c32472a"
      },
      "execution_count": 89,
      "outputs": [
        {
          "output_type": "stream",
          "name": "stdout",
          "text": [
            "[5 4]\n"
          ]
        }
      ]
    },
    {
      "cell_type": "code",
      "source": [
        "x=np.array([[1,2],\n",
        "            [3,4]])\n",
        "y=np.array([[5,6]])\n",
        "np.vstack((x,y))    #Vertical Stacking\n"
      ],
      "metadata": {
        "colab": {
          "base_uri": "https://localhost:8080/"
        },
        "id": "kKBH8cph7gAo",
        "outputId": "867042df-5097-4933-82ea-3e7518d5b2b9"
      },
      "execution_count": 90,
      "outputs": [
        {
          "output_type": "execute_result",
          "data": {
            "text/plain": [
              "array([[1, 2],\n",
              "       [3, 4],\n",
              "       [5, 6]])"
            ]
          },
          "metadata": {},
          "execution_count": 90
        }
      ]
    },
    {
      "cell_type": "code",
      "source": [
        "x=np.array([[1,2],\n",
        "            [3,4]])\n",
        "y=np.array([[5,6],\n",
        "            [7,8]])\n",
        "np.hstack((x,y))  #Horizontal Stacking"
      ],
      "metadata": {
        "colab": {
          "base_uri": "https://localhost:8080/"
        },
        "id": "ZTWo2Ckc8NW7",
        "outputId": "47a02bdc-fbe3-4e25-9299-0623db4f9886"
      },
      "execution_count": 92,
      "outputs": [
        {
          "output_type": "execute_result",
          "data": {
            "text/plain": [
              "array([[1, 2, 5, 6],\n",
              "       [3, 4, 7, 8]])"
            ]
          },
          "metadata": {},
          "execution_count": 92
        }
      ]
    },
    {
      "cell_type": "code",
      "source": [],
      "metadata": {
        "id": "N9l3QrIy8bdt"
      },
      "execution_count": null,
      "outputs": []
    }
  ]
}