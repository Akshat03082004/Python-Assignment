{
  "nbformat": 4,
  "nbformat_minor": 0,
  "metadata": {
    "colab": {
      "provenance": [],
      "authorship_tag": "ABX9TyODkyXaDK6K54pCW4U+usnG"
    },
    "kernelspec": {
      "name": "python3",
      "display_name": "Python 3"
    },
    "language_info": {
      "name": "python"
    }
  },
  "cells": [
    {
      "cell_type": "code",
      "execution_count": null,
      "metadata": {
        "id": "BLoi91FHgh1z"
      },
      "outputs": [],
      "source": [
        "ques=[{\"Questions\":\"What is the Father of india ?\",\n",
        "      \"options\":[\"A. Gandhi\", \"B. Salman\", \"C. salman\"],\n",
        "      \"Ans\":\"A\"},\n",
        "\n",
        "    {\"Questions\":\"What is the national animal of india ?\",\n",
        "        \"options\":[\"A. Peacock\", \"B. Lion\", \"C. Tiger\"],\n",
        "        \"Ans\":\"C\"}\n",
        "]\n",
        "\n",
        "print(\"Welcome to kaun Banega Crorpati\")\n",
        "total_winning=0\n",
        "prizemoney=[1000,25000]\n",
        "for i,q in enumerate(ques):\n",
        "  print(f\"The {i+1} questions for money {prizemoney[i]} is in front of you \\n\")\n",
        "  print(q[\"Questions\"])\n",
        "  for option in q[\"options\"]:\n",
        "    print(option)\n",
        "\n",
        "  user_input=input(\"choose the answer from A,B,C :  or Press Q for quit\")\n",
        "  user_input=user_input.upper()\n",
        "  if(user_input==\"Q\"):\n",
        "    print(f\"Thank you for the game you won {total_winning}\",)\n",
        "    break\n",
        "  if(user_input==q[\"Ans\"] ):\n",
        "    total_winning+=prizemoney[i]\n",
        "    print(f\"kya baat aap jeet chuke hai {total_winning}\")\n",
        "\n",
        "  else:\n",
        "    print(f\"uff aap haar gaye \")\n",
        "    print(f\"Game Overrrrr!!!\")\n",
        "    total_winning=0\n",
        "    break\n",
        ""
      ]
    }
  ]
}